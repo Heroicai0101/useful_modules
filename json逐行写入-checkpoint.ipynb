{
 "cells": [
  {
   "cell_type": "code",
   "execution_count": 8,
   "metadata": {
    "collapsed": false
   },
   "outputs": [
    {
     "name": "stdout",
     "output_type": "stream",
     "text": [
      "1001,224343434433,3,4444454545454545\n",
      "1001,656905695069,3,5546556565656565\n",
      "1001,flsdfdsdf34232,4,fdkfsd21232342\n",
      "1002,flsdfdsdf34232,3,fdkfsd21232342\n",
      "1001,90594dfsdd323,3,56450450dsdsds23\n",
      "1003,flsdfdsdf34232,3,fdkfsd21232342\n",
      "1003,flsdfdsdf34232,3,fdkfsd21232342\n",
      "1004,flsdfdsdf34232,3,fdkfsd21232342\n",
      "1001,656905695069,3,5546556565656565\n",
      "1001,flsdfdsdf34232,4,fdkfsd21232342\n"
     ]
    }
   ],
   "source": [
    "!cat 'zhihu.csv'"
   ]
  },
  {
   "cell_type": "code",
   "execution_count": 15,
   "metadata": {
    "collapsed": false
   },
   "outputs": [
    {
     "name": "stdout",
     "output_type": "stream",
     "text": [
      "None\n"
     ]
    }
   ],
   "source": [
    "import sys\n",
    "from itertools import groupby\n",
    "from operator import itemgetter\n",
    "\n",
    "def read_input(file):\n",
    "    for each_line in file:\n",
    "        yield each_line.rstrip().split()\n",
    "\n",
    "def main(sep=','):\n",
    "    data = sorted(read_input(sys.stdin), key=itemgetter(0,2))\n",
    "    for k, group in data:\n",
    "        print k, list(group)\n",
    "\n",
    "if __name__ == 'main':\n",
    "    my_file = 'zhihu.csv'\n",
    "    get_need()"
   ]
  },
  {
   "cell_type": "code",
   "execution_count": 36,
   "metadata": {
    "collapsed": false
   },
   "outputs": [
    {
     "name": "stdout",
     "output_type": "stream",
     "text": [
      "None\n"
     ]
    }
   ],
   "source": [
    "import sys\n",
    "from itertools import groupby\n",
    "from operator import itemgetter\n",
    "\n",
    "def read_input(file, sep=','):\n",
    "    for each_line in file:\n",
    "        yield each_line.split(sep)\n",
    "\n",
    "def main():\n",
    "    data = sorted(read_input(sys.stdin), key=itemgetter(0,2))\n",
    "    for key, group in groupby(data, key=itemgetter(0,2)):\n",
    "        print key, list(group)\n",
    "\n",
    "\n",
    "my_file = 'zhihu.csv'\n",
    "result = main()\n",
    "print result\n",
    "\n"
   ]
  },
  {
   "cell_type": "code",
   "execution_count": null,
   "metadata": {
    "collapsed": true
   },
   "outputs": [],
   "source": [
    "import sys\n",
    "from itertools import groupby\n",
    "from operator import itemgetter\n",
    "\n",
    "def read_input(file, sep=','):\n",
    "    for each_line in file:\n",
    "        yield each_line.split(sep)\n",
    "\n",
    "def main():\n",
    "    data = sorted(read_input(sys.stdin), key=itemgetter(0,2))\n",
    "    for key, group in groupby(data, key=itemgetter(0,2)):\n",
    "        print key, list(group)\n",
    "\n",
    "\n",
    "my_file = 'zhihu.csv'\n",
    "result = main()\n",
    "print result"
   ]
  },
  {
   "cell_type": "code",
   "execution_count": 16,
   "metadata": {
    "collapsed": false
   },
   "outputs": [],
   "source": [
    "sql=(\"INSERT INTO measurements (weight, temperature, color) \" # 最后面加一个空格\n",
    "     \"VALUES (%s, %s, %s)\")"
   ]
  },
  {
   "cell_type": "code",
   "execution_count": 17,
   "metadata": {
    "collapsed": false
   },
   "outputs": [
    {
     "data": {
      "text/plain": [
       "'INSERT INTO measurements (weight, temperature, color) VALUES (%s, %s, %s)'"
      ]
     },
     "execution_count": 17,
     "metadata": {},
     "output_type": "execute_result"
    }
   ],
   "source": [
    "sql"
   ]
  },
  {
   "cell_type": "code",
   "execution_count": 23,
   "metadata": {
    "collapsed": false
   },
   "outputs": [
    {
     "data": {
      "text/plain": [
       "'abcdefghijklmnopqrstuvwxyzABCDEFGHIJKLMNOPQRSTUVWXYZ'"
      ]
     },
     "execution_count": 23,
     "metadata": {},
     "output_type": "execute_result"
    }
   ],
   "source": [
    "# import string\n",
    "string.letters"
   ]
  },
  {
   "cell_type": "code",
   "execution_count": 3,
   "metadata": {
    "collapsed": false
   },
   "outputs": [
    {
     "name": "stdout",
     "output_type": "stream",
     "text": [
      "None\n"
     ]
    }
   ],
   "source": [
    "def xx():\n",
    "    for each in []:\n",
    "        print each[1]\n",
    "        \n",
    "yy  = xx()\n",
    "print yy"
   ]
  },
  {
   "cell_type": "code",
   "execution_count": 14,
   "metadata": {
    "collapsed": false
   },
   "outputs": [
    {
     "data": {
      "text/plain": [
       "[1, 2]"
      ]
     },
     "execution_count": 14,
     "metadata": {},
     "output_type": "execute_result"
    }
   ],
   "source": []
  },
  {
   "cell_type": "code",
   "execution_count": 7,
   "metadata": {
    "collapsed": false
   },
   "outputs": [
    {
     "name": "stdout",
     "output_type": "stream",
     "text": [
      "1\n"
     ]
    }
   ],
   "source": [
    "portfolio=[{'a':1,'b':2},{'a':2, 'b':3}]\n",
    "min_shares = min(portfolio, key=lambda s: s['a'])\n",
    "min_shares = min(s['a'] for s in portfolio)\n",
    "print min_shares"
   ]
  },
  {
   "cell_type": "code",
   "execution_count": 1,
   "metadata": {
    "collapsed": true
   },
   "outputs": [],
   "source": [
    "import json  "
   ]
  },
  {
   "cell_type": "code",
   "execution_count": 36,
   "metadata": {
    "collapsed": true
   },
   "outputs": [],
   "source": [
    "#导入Json模块\n",
    "import os"
   ]
  },
  {
   "cell_type": "code",
   "execution_count": 87,
   "metadata": {
    "collapsed": false
   },
   "outputs": [],
   "source": [
    "a_list = [{'a': u'蔡', 'b': ['a','b'], 'c': 1}, {'a': u'国雄', 'b': 'a', 'c': 1}]\n",
    "with open('json_test.txt', 'wb') as f:\n",
    "    for dic in a_list:\n",
    "        try:\n",
    "            output = json.dumps(dic, ensure_ascii=False)\n",
    "#             print type(output)  # 'unicode'\n",
    "            f.write(output.encode('utf-8') + os.linesep)\n",
    "        except (UnicodeEncodeError, TypeError) as err:\n",
    "            print \"Error: \"+ str(err)\n",
    "            continue\n"
   ]
  },
  {
   "cell_type": "code",
   "execution_count": 88,
   "metadata": {
    "collapsed": false
   },
   "outputs": [],
   "source": [
    "fout = open('yy.json', 'wb')\n",
    "with open('json_test.txt', 'rb') as f:\n",
    "    for line in f:\n",
    "        try:\n",
    "#             print type(line)  # str\n",
    "            python_dict = json.loads(line)\n",
    "            out_str = json.dumps(python_dict, ensure_ascii=False)\n",
    "#             print type(out_str) # 'unicode'\n",
    "            fout.write(out_str.encode('utf-8') + os.linesep)\n",
    "        except (ValueError, IOError) as err:\n",
    "            print \"Error: \" + str(err)\n",
    "            continue\n",
    "f.close()\n",
    "       "
   ]
  },
  {
   "cell_type": "code",
   "execution_count": 132,
   "metadata": {
    "collapsed": false
   },
   "outputs": [],
   "source": [
    "import numpy as np\n",
    "y = np.array([1, 3, 4,7,5], dtype='u4')"
   ]
  },
  {
   "cell_type": "code",
   "execution_count": 133,
   "metadata": {
    "collapsed": false
   },
   "outputs": [
    {
     "data": {
      "text/plain": [
       "[(1, 3, 4), (3, 4, 7), (4, 7, 5)]"
      ]
     },
     "execution_count": 133,
     "metadata": {},
     "output_type": "execute_result"
    }
   ],
   "source": [
    "import itertools as it\n",
    "\n",
    "def tri_gram(iterable):\n",
    "    a, b, c = it.tee(iterable, 3)\n",
    "    return it.izip(it.islice(a, 0, None), it.islice(b, 1, None), it.islice(c, 2, None))\n",
    "list(tri_gram(y))"
   ]
  },
  {
   "cell_type": "code",
   "execution_count": 134,
   "metadata": {
    "collapsed": true
   },
   "outputs": [],
   "source": [
    "def return_tri_mode(a, b, c):\n",
    "    diff = cmp(a, b), cmp(b, c)\n",
    "    if diff == (-1, -1):\n",
    "        return 'uu'\n",
    "    if diff == (-1, 0):\n",
    "        return 'us'\n",
    "    if diff == (-1, 1):\n",
    "        return 'ud'\n",
    "\n",
    "    if diff == (0, -1):\n",
    "        return 'su'\n",
    "    if diff == (0, 0):\n",
    "        return 'ss'\n",
    "    if diff == (0, 1):\n",
    "        return 'sd'\n",
    "\n",
    "    if diff == (1, -1):\n",
    "        return 'du'\n",
    "    if diff == (1, 0):\n",
    "        return 'ds'\n",
    "    if diff == (1, 1):\n",
    "        return 'dd'"
   ]
  },
  {
   "cell_type": "code",
   "execution_count": 135,
   "metadata": {
    "collapsed": false
   },
   "outputs": [
    {
     "data": {
      "text/plain": [
       "['uu', 'uu', 'ud']"
      ]
     },
     "execution_count": 135,
     "metadata": {},
     "output_type": "execute_result"
    }
   ],
   "source": [
    "[return_tri_mode(a,b,c) for a, b, c in tri_gram(y)]"
   ]
  },
  {
   "cell_type": "code",
   "execution_count": 136,
   "metadata": {
    "collapsed": false
   },
   "outputs": [
    {
     "name": "stdout",
     "output_type": "stream",
     "text": [
      "100000 loops, best of 3: 10.7 µs per loop\n"
     ]
    }
   ],
   "source": [
    "%timeit list(it.starmap(return_tri_mode, tri_gram(y)))"
   ]
  },
  {
   "cell_type": "code",
   "execution_count": 137,
   "metadata": {
    "collapsed": false
   },
   "outputs": [
    {
     "name": "stdout",
     "output_type": "stream",
     "text": [
      "The slowest run took 5.03 times longer than the fastest. This could mean that an intermediate result is being cached \n",
      "100000 loops, best of 3: 9.36 µs per loop\n"
     ]
    }
   ],
   "source": [
    "%timeit [return_tri_mode(a,b,c) for a, b, c in tri_gram(y)]"
   ]
  },
  {
   "cell_type": "code",
   "execution_count": 138,
   "metadata": {
    "collapsed": false
   },
   "outputs": [],
   "source": [
    "z = ['uu','us', 'ud','du']*100000"
   ]
  },
  {
   "cell_type": "code",
   "execution_count": 139,
   "metadata": {
    "collapsed": true
   },
   "outputs": [],
   "source": [
    "from collections import Counter, defaultdict"
   ]
  },
  {
   "cell_type": "code",
   "execution_count": 140,
   "metadata": {
    "collapsed": false
   },
   "outputs": [
    {
     "name": "stdout",
     "output_type": "stream",
     "text": [
      "Wall time: 186 ms\n"
     ]
    },
    {
     "data": {
      "text/plain": [
       "Counter({'uu': 100000, 'ud': 100000, 'du': 100000, 'us': 100000})"
      ]
     },
     "execution_count": 140,
     "metadata": {},
     "output_type": "execute_result"
    }
   ],
   "source": [
    "%%time \n",
    "Counter(z)"
   ]
  },
  {
   "cell_type": "code",
   "execution_count": 141,
   "metadata": {
    "collapsed": false
   },
   "outputs": [
    {
     "name": "stdout",
     "output_type": "stream",
     "text": [
      "defaultdict(<type 'int'>, {'uu': 100000, 'ud': 100000, 'du': 100000, 'us': 100000})\n",
      "Wall time: 80 ms\n"
     ]
    }
   ],
   "source": [
    "%%time\n",
    "res = defaultdict(int)\n",
    "for k in z:\n",
    "    res[k] += 1\n",
    "print res"
   ]
  },
  {
   "cell_type": "code",
   "execution_count": 129,
   "metadata": {
    "collapsed": false
   },
   "outputs": [
    {
     "data": {
      "text/plain": [
       "100000"
      ]
     },
     "execution_count": 129,
     "metadata": {},
     "output_type": "execute_result"
    }
   ],
   "source": [
    "res['uu']"
   ]
  },
  {
   "cell_type": "code",
   "execution_count": null,
   "metadata": {
    "collapsed": true
   },
   "outputs": [],
   "source": []
  },
  {
   "cell_type": "code",
   "execution_count": 130,
   "metadata": {
    "collapsed": false
   },
   "outputs": [
    {
     "data": {
      "text/plain": [
       "4294967296L"
      ]
     },
     "execution_count": 130,
     "metadata": {},
     "output_type": "execute_result"
    }
   ],
   "source": [
    "2**32"
   ]
  },
  {
   "cell_type": "code",
   "execution_count": null,
   "metadata": {
    "collapsed": true
   },
   "outputs": [],
   "source": []
  }
 ],
 "metadata": {
  "kernelspec": {
   "display_name": "Python 2",
   "language": "python",
   "name": "python2"
  },
  "language_info": {
   "codemirror_mode": {
    "name": "ipython",
    "version": 2
   },
   "file_extension": ".py",
   "mimetype": "text/x-python",
   "name": "python",
   "nbconvert_exporter": "python",
   "pygments_lexer": "ipython2",
   "version": "2.7.10"
  }
 },
 "nbformat": 4,
 "nbformat_minor": 0
}
