{
 "cells": [
  {
   "cell_type": "markdown",
   "metadata": {},
   "source": [
    "# operator"
   ]
  },
  {
   "cell_type": "code",
   "execution_count": 1,
   "metadata": {
    "collapsed": true
   },
   "outputs": [],
   "source": [
    "from operator import *"
   ]
  },
  {
   "cell_type": "markdown",
   "metadata": {},
   "source": [
    "#### Comparison Operators"
   ]
  },
  {
   "cell_type": "code",
   "execution_count": 2,
   "metadata": {
    "collapsed": false
   },
   "outputs": [
    {
     "name": "stdout",
     "output_type": "stream",
     "text": [
      "lt(a, b): True\n",
      "le(a, b): True\n",
      "eq(a, b): False\n",
      "ne(a, b): True\n",
      "ge(a, b): False\n",
      "gt(a, b): False\n"
     ]
    }
   ],
   "source": [
    "a,b =1, 5.0\n",
    "for func in (lt, le, eq, ne, ge, gt):\n",
    "    print '%s(a, b):' % func.__name__, func(a, b)"
   ]
  },
  {
   "cell_type": "markdown",
   "metadata": {
    "collapsed": true
   },
   "source": [
    "#### Arithmetic Operators"
   ]
  },
  {
   "cell_type": "code",
   "execution_count": 3,
   "metadata": {
    "collapsed": false
   },
   "outputs": [
    {
     "name": "stdout",
     "output_type": "stream",
     "text": [
      "add(a, b)     : 8\n",
      "sub(b, a)     : -4\n",
      "mul(a, b)     : 12\n",
      "div(a, b)     : 0\n",
      "floordiv(a, b): 0\n",
      "truediv(a, b) : 0.333333333333\n",
      "mod(a, b)     : 2\n",
      "pow(c, d)     : 64\n"
     ]
    }
   ],
   "source": [
    "a,b = 2, 6\n",
    "print 'add(a, b)     :', add(a, b)\n",
    "print 'sub(b, a)     :', sub(a, b)\n",
    "print 'mul(a, b)     :', mul(a, b)\n",
    "print 'div(a, b)     :', div(a, b)\n",
    "print 'floordiv(a, b):', floordiv(a, b)\n",
    "print 'truediv(a, b) :', truediv(a, b)\n",
    "print 'mod(a, b)     :', mod(a, b)\n",
    "print 'pow(c, d)     :', pow(a, b)"
   ]
  },
  {
   "cell_type": "markdown",
   "metadata": {},
   "source": [
    "#### itemgetter"
   ]
  },
  {
   "cell_type": "code",
   "execution_count": 4,
   "metadata": {
    "collapsed": false
   },
   "outputs": [
    {
     "name": "stdout",
     "output_type": "stream",
     "text": [
      "('B', 'D', 'F')\n",
      "CDEFG\n"
     ]
    }
   ],
   "source": [
    "print itemgetter(1, 3, 5)('ABCDEFG')\n",
    "print itemgetter(slice(2, None))('ABCDEFG')"
   ]
  },
  {
   "cell_type": "code",
   "execution_count": 5,
   "metadata": {
    "collapsed": false
   },
   "outputs": [
    {
     "name": "stdout",
     "output_type": "stream",
     "text": [
      "[{'val': 0}, {'val': 1}, {'val': 2}, {'val': 3}, {'val': 4}]\n",
      "[0, 1, 2, 3, 4]\n"
     ]
    }
   ],
   "source": [
    "l = [dict(val=i) for i in xrange(5) ]\n",
    "g = itemgetter('val')\n",
    "vals = [g(i) for i in l]  # itemgetter亦可用于获取字典的元素\n",
    "print l\n",
    "print vals"
   ]
  },
  {
   "cell_type": "code",
   "execution_count": 6,
   "metadata": {
    "collapsed": false
   },
   "outputs": [
    {
     "data": {
      "text/plain": [
       "[('orange', 1), ('banana', 2), ('apple', 3), ('pear', 5)]"
      ]
     },
     "execution_count": 6,
     "metadata": {},
     "output_type": "execute_result"
    }
   ],
   "source": [
    "inventory = [('apple', 3), ('banana', 2), ('pear', 5), ('orange', 1)]\n",
    "sorted(inventory, key=itemgetter(1))"
   ]
  },
  {
   "cell_type": "markdown",
   "metadata": {
    "collapsed": true
   },
   "source": [
    "#### attrgetter"
   ]
  },
  {
   "cell_type": "code",
   "execution_count": 7,
   "metadata": {
    "collapsed": false
   },
   "outputs": [
    {
     "name": "stdout",
     "output_type": "stream",
     "text": [
      "[Point(x=0, y=0), Point(x=0, y=1), Point(x=1, y=0), Point(x=1, y=1)]\n",
      "[0, 0, 1, 1]\n"
     ]
    }
   ],
   "source": [
    "from collections import namedtuple\n",
    "Point = namedtuple('Point', ['x', 'y'])\n",
    "a = Point(3, 4)\n",
    "Point_list = [Point(x,y) for x in range(2) for y in range(2)]\n",
    "print Point_list\n",
    "print [attrgetter('x')(point) for point in Point_list] "
   ]
  }
 ],
 "metadata": {
  "kernelspec": {
   "display_name": "Python 2",
   "language": "python",
   "name": "python2"
  },
  "language_info": {
   "codemirror_mode": {
    "name": "ipython",
    "version": 2
   },
   "file_extension": ".py",
   "mimetype": "text/x-python",
   "name": "python",
   "nbconvert_exporter": "python",
   "pygments_lexer": "ipython2",
   "version": "2.7.10"
  }
 },
 "nbformat": 4,
 "nbformat_minor": 0
}
