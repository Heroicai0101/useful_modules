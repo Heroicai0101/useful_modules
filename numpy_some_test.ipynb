{
 "cells": [
  {
   "cell_type": "markdown",
   "metadata": {},
   "source": [
    "### 将numpy记录转换为python字典列表"
   ]
  },
  {
   "cell_type": "code",
   "execution_count": 1,
   "metadata": {
    "collapsed": true
   },
   "outputs": [],
   "source": [
    "import numpy as np"
   ]
  },
  {
   "cell_type": "code",
   "execution_count": 2,
   "metadata": {
    "collapsed": false
   },
   "outputs": [
    {
     "name": "stdout",
     "output_type": "stream",
     "text": [
      "[('Bill', 31, 260.0) ('Fred', 15, 145.0)] Bill\n"
     ]
    }
   ],
   "source": [
    "recs = [('Bill', 31, 260.0), ('Fred', 15, 145.0)]\n",
    "dt = np.dtype([('name', 'S30'),('age',int),('weight',float)]) \n",
    "r = np.array(recs, dtype=dt)\n",
    "print r, r[0]['name']"
   ]
  },
  {
   "cell_type": "code",
   "execution_count": 3,
   "metadata": {
    "collapsed": false
   },
   "outputs": [
    {
     "name": "stdout",
     "output_type": "stream",
     "text": [
      "The slowest run took 7.97 times longer than the fastest. This could mean that an intermediate result is being cached \n",
      "100000 loops, best of 3: 4.55 µs per loop\n"
     ]
    }
   ],
   "source": [
    "%timeit [{'name':rec[0], 'age': rec[1], 'weight': rec[2]} for rec in r]"
   ]
  },
  {
   "cell_type": "code",
   "execution_count": 4,
   "metadata": {
    "collapsed": false
   },
   "outputs": [
    {
     "name": "stdout",
     "output_type": "stream",
     "text": [
      "The slowest run took 11.57 times longer than the fastest. This could mean that an intermediate result is being cached \n",
      "1000000 loops, best of 3: 443 ns per loop\n"
     ]
    }
   ],
   "source": [
    "%timeit ({'name':rec[0], 'age': rec[1], 'weight': rec[2]} for rec in r)"
   ]
  },
  {
   "cell_type": "markdown",
   "metadata": {},
   "source": [
    "### python字典列表转numpy数组"
   ]
  },
  {
   "cell_type": "markdown",
   "metadata": {},
   "source": [
    "#### 单个字典转数组"
   ]
  },
  {
   "cell_type": "code",
   "execution_count": 195,
   "metadata": {
    "collapsed": false
   },
   "outputs": [],
   "source": [
    "import numpy as np\n",
    "result = {0: 1.11, 1: 0.55, 2: 0.47, \n",
    "          3: 0.48, 4: 1.0, 5: 0.13}\n",
    "dt=[('id', 'f8'), ('data', 'f8')]"
   ]
  },
  {
   "cell_type": "code",
   "execution_count": 151,
   "metadata": {
    "collapsed": false
   },
   "outputs": [
    {
     "data": {
      "text/plain": [
       "[(0, 1.11), (1, 0.55), (2, 0.47), (3, 0.48), (4, 1.0), (5, 0.13)]"
      ]
     },
     "execution_count": 151,
     "metadata": {},
     "output_type": "execute_result"
    }
   ],
   "source": [
    "result.items()"
   ]
  },
  {
   "cell_type": "code",
   "execution_count": 165,
   "metadata": {
    "collapsed": false
   },
   "outputs": [
    {
     "data": {
      "text/plain": [
       "array([(0.0, 1.11), (1.0, 0.55), (2.0, 0.47), (3.0, 0.48), (4.0, 1.0),\n",
       "       (5.0, 0.13)], \n",
       "      dtype=[('id', '<f8'), ('data', '<f8')])"
      ]
     },
     "execution_count": 165,
     "metadata": {},
     "output_type": "execute_result"
    }
   ],
   "source": [
    "np.array(result.items(), dtype=dt)"
   ]
  },
  {
   "cell_type": "code",
   "execution_count": 160,
   "metadata": {
    "collapsed": false
   },
   "outputs": [
    {
     "name": "stdout",
     "output_type": "stream",
     "text": [
      "The slowest run took 9.71 times longer than the fastest. This could mean that an intermediate result is being cached \n",
      "100000 loops, best of 3: 2.34 µs per loop\n"
     ]
    }
   ],
   "source": [
    "%timeit arr1 = np.array(result.items(), dtype=dt)"
   ]
  },
  {
   "cell_type": "code",
   "execution_count": 163,
   "metadata": {
    "collapsed": false
   },
   "outputs": [
    {
     "name": "stdout",
     "output_type": "stream",
     "text": [
      "The slowest run took 9.86 times longer than the fastest. This could mean that an intermediate result is being cached \n",
      "100000 loops, best of 3: 2.08 µs per loop\n"
     ]
    }
   ],
   "source": [
    "%timeit arr2 = np.fromiter(result.iteritems(), dtype=dt)  # more memory-friendly "
   ]
  },
  {
   "cell_type": "markdown",
   "metadata": {},
   "source": [
    "#### 字典列表转数组"
   ]
  },
  {
   "cell_type": "code",
   "execution_count": 212,
   "metadata": {
    "collapsed": false
   },
   "outputs": [],
   "source": [
    "dict_list = [{'age': 31, 'name': 'Bill', 'weight': 260.0}, \n",
    "             {'age': 15, 'name': 'Fred', 'weight': 145.0}]*10000\n",
    "# [dict.values() for dict in dict_list]"
   ]
  },
  {
   "cell_type": "code",
   "execution_count": 219,
   "metadata": {
    "collapsed": false
   },
   "outputs": [],
   "source": [
    "dtype =[('age', 'i1'), ('name', 'S20'), ('weight', 'f4')]\n",
    "# records = np.array([dict.values() for dict in dict_list], dtype=dtype) # 错误代码\n",
    "# print records\n",
    "# print records.shape"
   ]
  },
  {
   "cell_type": "code",
   "execution_count": 213,
   "metadata": {
    "collapsed": false
   },
   "outputs": [
    {
     "name": "stdout",
     "output_type": "stream",
     "text": [
      "100 loops, best of 3: 15.9 ms per loop\n"
     ]
    }
   ],
   "source": [
    "%timeit records = np.fromiter([tuple(dic.itervalues()) for dic in dict_list], dtype=dtype)"
   ]
  },
  {
   "cell_type": "code",
   "execution_count": 214,
   "metadata": {
    "collapsed": false
   },
   "outputs": [
    {
     "name": "stdout",
     "output_type": "stream",
     "text": [
      "100 loops, best of 3: 10 ms per loop\n"
     ]
    }
   ],
   "source": [
    "%timeit records = np.fromiter((tuple(dic.values()) for dic in dict_list), dtype=dtype)"
   ]
  },
  {
   "cell_type": "code",
   "execution_count": 215,
   "metadata": {
    "collapsed": false
   },
   "outputs": [
    {
     "name": "stdout",
     "output_type": "stream",
     "text": [
      "100 loops, best of 3: 6.18 ms per loop\n"
     ]
    }
   ],
   "source": [
    "%timeit records = np.fromiter(((dict['age'], dict['name'], dict['weight']) for dict in dict_list), dtype=dtype)"
   ]
  },
  {
   "cell_type": "code",
   "execution_count": 216,
   "metadata": {
    "collapsed": false
   },
   "outputs": [
    {
     "name": "stdout",
     "output_type": "stream",
     "text": [
      "100 loops, best of 3: 5.99 ms per loop\n"
     ]
    }
   ],
   "source": [
    "%timeit records = np.fromiter([(dict['age'], dict['name'], dict['weight']) for dict in dict_list], dtype=dtype)"
   ]
  },
  {
   "cell_type": "markdown",
   "metadata": {},
   "source": [
    "#### 字典的值为元组字典转数组"
   ]
  },
  {
   "cell_type": "code",
   "execution_count": 73,
   "metadata": {
    "collapsed": false
   },
   "outputs": [],
   "source": [
    "import datetime\n",
    "data_dict = {datetime.date(2006, 1, 1): (5, 3),\n",
    " datetime.date(2006, 1, 2): (8, 8),\n",
    " datetime.date(2006, 1, 3): (8, 5),\n",
    " datetime.date(2006, 1, 4): (3, 3),\n",
    " datetime.date(2006, 1, 5): (3, 3),\n",
    " datetime.date(2006, 1, 6): (4, 3)}"
   ]
  },
  {
   "cell_type": "code",
   "execution_count": 68,
   "metadata": {
    "collapsed": false
   },
   "outputs": [
    {
     "data": {
      "text/plain": [
       "[(datetime.date(2006, 1, 6), (4, 3)),\n",
       " (datetime.date(2006, 1, 1), (5, 3)),\n",
       " (datetime.date(2006, 1, 2), (8, 8)),\n",
       " (datetime.date(2006, 1, 3), (8, 5)),\n",
       " (datetime.date(2006, 1, 4), (3, 3)),\n",
       " (datetime.date(2006, 1, 5), (3, 3))]"
      ]
     },
     "execution_count": 68,
     "metadata": {},
     "output_type": "execute_result"
    }
   ],
   "source": [
    "data_dict.items()"
   ]
  },
  {
   "cell_type": "code",
   "execution_count": 114,
   "metadata": {
    "collapsed": false
   },
   "outputs": [
    {
     "name": "stdout",
     "output_type": "stream",
     "text": [
      "[(datetime.date(2006, 1, 6), [4.0, 3.0])\n",
      " (datetime.date(2006, 1, 1), [5.0, 3.0])\n",
      " (datetime.date(2006, 1, 2), [8.0, 8.0])\n",
      " (datetime.date(2006, 1, 3), [8.0, 5.0])\n",
      " (datetime.date(2006, 1, 4), [3.0, 3.0])\n",
      " (datetime.date(2006, 1, 5), [3.0, 3.0])]\n"
     ]
    }
   ],
   "source": [
    "x = np.array(data_dict.items(), dtype=[('date', 'O4'), ('values', '(2,)f4')])\n",
    "print x"
   ]
  },
  {
   "cell_type": "code",
   "execution_count": 104,
   "metadata": {
    "collapsed": false
   },
   "outputs": [
    {
     "data": {
      "text/plain": [
       "array([ 4.,  5.,  8.,  8.,  3.,  3.], dtype=float32)"
      ]
     },
     "execution_count": 104,
     "metadata": {},
     "output_type": "execute_result"
    }
   ],
   "source": [
    "x['values'][:, 0]"
   ]
  },
  {
   "cell_type": "code",
   "execution_count": 111,
   "metadata": {
    "collapsed": false
   },
   "outputs": [
    {
     "data": {
      "text/plain": [
       "[(datetime.date(2006, 1, 6), (4, 3)),\n",
       " (datetime.date(2006, 1, 1), (5, 3)),\n",
       " (datetime.date(2006, 1, 2), (8, 8)),\n",
       " (datetime.date(2006, 1, 3), (8, 5)),\n",
       " (datetime.date(2006, 1, 4), (3, 3)),\n",
       " (datetime.date(2006, 1, 5), (3, 3))]"
      ]
     },
     "execution_count": 111,
     "metadata": {},
     "output_type": "execute_result"
    }
   ],
   "source": [
    "[(key,data_dict[key]) for key in data_dict]"
   ]
  },
  {
   "cell_type": "code",
   "execution_count": 223,
   "metadata": {
    "collapsed": false
   },
   "outputs": [
    {
     "ename": "ValueError",
     "evalue": "cannot create object arrays from iterator",
     "output_type": "error",
     "traceback": [
      "\u001b[1;31m---------------------------------------------------------------------------\u001b[0m",
      "\u001b[1;31mValueError\u001b[0m                                Traceback (most recent call last)",
      "\u001b[1;32m<ipython-input-223-0f5f3e09c20a>\u001b[0m in \u001b[0;36m<module>\u001b[1;34m()\u001b[0m\n\u001b[1;32m----> 1\u001b[1;33m \u001b[0my\u001b[0m \u001b[1;33m=\u001b[0m \u001b[0mnp\u001b[0m\u001b[1;33m.\u001b[0m\u001b[0mfromiter\u001b[0m\u001b[1;33m(\u001b[0m\u001b[0mdata_dict\u001b[0m\u001b[1;33m.\u001b[0m\u001b[0miteritems\u001b[0m\u001b[1;33m(\u001b[0m\u001b[1;33m)\u001b[0m\u001b[1;33m,\u001b[0m \u001b[0mdtype\u001b[0m\u001b[1;33m=\u001b[0m\u001b[1;33m[\u001b[0m\u001b[1;33m(\u001b[0m\u001b[1;34m'date'\u001b[0m\u001b[1;33m,\u001b[0m \u001b[1;34m'O4'\u001b[0m\u001b[1;33m)\u001b[0m\u001b[1;33m,\u001b[0m \u001b[1;33m(\u001b[0m\u001b[1;34m'values'\u001b[0m\u001b[1;33m,\u001b[0m \u001b[1;34m'(2,)f4'\u001b[0m\u001b[1;33m)\u001b[0m\u001b[1;33m]\u001b[0m\u001b[1;33m)\u001b[0m\u001b[1;33m\u001b[0m\u001b[0m\n\u001b[0m\u001b[0;32m      2\u001b[0m \u001b[1;32mprint\u001b[0m \u001b[0my\u001b[0m\u001b[1;33m\u001b[0m\u001b[0m\n",
      "\u001b[1;31mValueError\u001b[0m: cannot create object arrays from iterator"
     ]
    }
   ],
   "source": [
    "y = np.fromiter(data_dict.iteritems(), dtype=[('date', 'O4'), ('values', '(2,)f4')]) # 不知道出错原因\n",
    "print y"
   ]
  },
  {
   "cell_type": "code",
   "execution_count": null,
   "metadata": {
    "collapsed": true
   },
   "outputs": [],
   "source": []
  },
  {
   "cell_type": "code",
   "execution_count": null,
   "metadata": {
    "collapsed": true
   },
   "outputs": [],
   "source": []
  },
  {
   "cell_type": "markdown",
   "metadata": {},
   "source": [
    "### subprocess模块"
   ]
  },
  {
   "cell_type": "code",
   "execution_count": 266,
   "metadata": {
    "collapsed": false
   },
   "outputs": [
    {
     "name": "stdout",
     "output_type": "stream",
     "text": [
      "parent process\n"
     ]
    }
   ],
   "source": [
    "import subprocess\n",
    "child = subprocess.Popen([\"ping\",\"-c\",\"500\",\"www.google.com\"])\n",
    "print \"parent process\""
   ]
  },
  {
   "cell_type": "code",
   "execution_count": 271,
   "metadata": {
    "collapsed": false
   },
   "outputs": [
    {
     "name": "stdout",
     "output_type": "stream",
     "text": [
      "parent process\n"
     ]
    }
   ],
   "source": [
    "import subprocess\n",
    "child = subprocess.Popen([\"ping\",\"-c\",\"1100000005\",\"www.baidu.com\"], shell=True)\n",
    "child.wait()\n",
    "print \"parent process\""
   ]
  },
  {
   "cell_type": "code",
   "execution_count": 263,
   "metadata": {
    "collapsed": false
   },
   "outputs": [
    {
     "name": "stdout",
     "output_type": "stream",
     "text": [
      "<type 'str'>\n",
      "  Z еľ caiguoxiong\r\n",
      " к 56B6-4304\r\n",
      "\r\n",
      " Z:\\guoxiong\\price_monitor-3.0 Ŀ¼\r\n",
      "\r\n",
      "2015/09/16    03:27    <DIR>          .\r\n",
      "2015/09/06    04:50    <DIR>          ..\r\n",
      "2015/09/11    02:55         1,169,161 Hist-all-update.ipynb\r\n",
      "2015/09/11    02:03             1,138 website_price_desc.txt\r\n",
      "2015/09/11    03:04             5,388 README\r\n",
      "2015/09/07 һ   02:56               846 website_cid.txt\r\n",
      "2015/09/11    04:00               121 test.txt.py\r\n",
      "2015/09/11    03:07             3,313 get_cid_spid_prices.py\r\n",
      "2015/09/10    10:07               200 app.ini\r\n",
      "2015/09/08 ܶ   01:53           469,051 Hist.ipynb-bak\r\n",
      "2015/09/16    03:27           202,027 numpyһЩ.ipynb\r\n",
      "2015/09/11    03:53                19 1,2.py\r\n",
      "2015/09/11    10:01             1,695 website_price_desc_update.txt\r\n",
      "2015/09/06    12:00               912 cid_sPid_mapper.py\r\n",
      "2015/09/09    12:55             1,081 wsite_cid_spid_count.txt\r\n",
      "2015/09/07 һ   08:31           102,525 website_cid_sPid.ipynb\r\n",
      "2015/09/06    03:43         2,866,722 all_website_cid_sPid.txt\r\n",
      "2015/09/10    10:09         1,071,921 Hist-all-updae-pre.ipynb\r\n",
      "2015/09/11    04:01                46 test.txt.ipy\r\n",
      "2015/09/11    03:51                 0 test.txt\r\n",
      "2015/09/09    02:18             2,753 get_prices_by_cid_wsite.py\r\n",
      "2015/09/08 ܶ   02:35           447,439 Hist.ipynb\r\n",
      "2015/09/10    05:26    <DIR>          image\r\n",
      "2015/09/10    02:07             2,453 Untitled.ipynb\r\n",
      "2015/09/09    02:02               754 cid_sPid_reducer.py\r\n",
      "2015/09/10    03:37               330 target_wsite_cid.txt\r\n",
      "2015/09/11    03:05             1,440 price_detect.py\r\n",
      "2015/09/11    03:53                19 2.py\r\n",
      "2015/09/10    10:18               275 wsite_cid_spie_count.py\r\n",
      "2015/09/14 һ   07:46         1,279,820 plot_bar_pie.ipynb\r\n",
      "2015/09/14 һ   04:25         1,193,088 Hist-all-update2.ipynb\r\n",
      "2015/09/10    09:42           796,991 Hist-all -copy.ipynb\r\n",
      "2015/09/11    09:17             2,037 price_detct.py-bak\r\n",
      "2015/09/08 ܶ   07:38            12,099 price_dis.txt\r\n",
      "2015/09/09    03:34           844,845 Hist-all.ipynb\r\n",
      "              32 ļ     10,480,509 ֽ\r\n",
      "               3 Ŀ¼ 304,353,300,480 ֽ\r\n",
      "\n"
     ]
    }
   ],
   "source": [
    "import subprocess\n",
    "child1 = subprocess.Popen(\"dir\", shell=True, stdout=subprocess.PIPE)\n",
    "# child2 = subprocess.Popen([\"wc\"], stdin=child1.stdout,stdout=subprocess.PIPE)\n",
    "out = child1.communicate()\n",
    "print type(out[0])\n",
    "print out[0].decode('utf-8', 'ignore')"
   ]
  },
  {
   "cell_type": "code",
   "execution_count": 273,
   "metadata": {
    "collapsed": false
   },
   "outputs": [
    {
     "data": {
      "text/plain": [
       "'\"Hello World!\"\\r\\n'"
      ]
     },
     "execution_count": 273,
     "metadata": {},
     "output_type": "execute_result"
    }
   ],
   "source": [
    "subprocess.check_output([\"echo\", \"Hello World!\"], shell=True)"
   ]
  },
  {
   "cell_type": "code",
   "execution_count": null,
   "metadata": {
    "collapsed": true
   },
   "outputs": [],
   "source": [
    "str.encode"
   ]
  },
  {
   "cell_type": "code",
   "execution_count": 274,
   "metadata": {
    "collapsed": true
   },
   "outputs": [],
   "source": [
    "def run_cmd_then_yield_stdout(cmd_str):\n",
    "    import subprocess\n",
    "    process = subprocess.Popen(cmd_str, shell=True, stdout=subprocess.PIPE)\n",
    "    for line in process.stdout:\n",
    "        yield line.strip()\n",
    "    process.wait()\n",
    "    if re"
   ]
  },
  {
   "cell_type": "code",
   "execution_count": 276,
   "metadata": {
    "collapsed": false
   },
   "outputs": [
    {
     "data": {
      "text/plain": [
       "['\\xc7\\xfd\\xb6\\xaf\\xc6\\xf7 Z \\xd6\\xd0\\xb5\\xc4\\xbe\\xed\\xca\\xc7 caiguoxiong',\n",
       " '\\xbe\\xed\\xb5\\xc4\\xd0\\xf2\\xc1\\xd0\\xba\\xc5\\xca\\xc7 56B6-4304',\n",
       " '',\n",
       " 'Z:\\\\guoxiong\\\\price_monitor-3.0 \\xb5\\xc4\\xc4\\xbf\\xc2\\xbc',\n",
       " '',\n",
       " '2015/09/16 \\xd6\\xdc\\xc8\\xfd  \\xcf\\xc2\\xce\\xe7 03:33    <DIR>          .',\n",
       " '2015/09/06 \\xd6\\xdc\\xc8\\xd5  \\xcf\\xc2\\xce\\xe7 04:50    <DIR>          ..',\n",
       " '2015/09/11 \\xd6\\xdc\\xce\\xe5  \\xcf\\xc2\\xce\\xe7 02:55         1,169,161 Hist-all-update.ipynb',\n",
       " '2015/09/11 \\xd6\\xdc\\xce\\xe5  \\xcf\\xc2\\xce\\xe7 02:03             1,138 website_price_desc.txt',\n",
       " '2015/09/11 \\xd6\\xdc\\xce\\xe5  \\xcf\\xc2\\xce\\xe7 03:04             5,388 README',\n",
       " '2015/09/07 \\xd6\\xdc\\xd2\\xbb  \\xcf\\xc2\\xce\\xe7 02:56               846 website_cid.txt',\n",
       " '2015/09/11 \\xd6\\xdc\\xce\\xe5  \\xcf\\xc2\\xce\\xe7 04:00               121 test.txt.py',\n",
       " '2015/09/11 \\xd6\\xdc\\xce\\xe5  \\xcf\\xc2\\xce\\xe7 03:07             3,313 get_cid_spid_prices.py',\n",
       " '2015/09/10 \\xd6\\xdc\\xcb\\xc4  \\xc9\\xcf\\xce\\xe7 10:07               200 app.ini',\n",
       " '2015/09/08 \\xd6\\xdc\\xb6\\xfe  \\xcf\\xc2\\xce\\xe7 01:53           469,051 Hist.ipynb-bak',\n",
       " '2015/09/16 \\xd6\\xdc\\xc8\\xfd  \\xcf\\xc2\\xce\\xe7 03:33           204,108 numpy\\xd2\\xbb\\xd0\\xa9\\xb2\\xe2\\xca\\xd4.ipynb',\n",
       " '2015/09/11 \\xd6\\xdc\\xce\\xe5  \\xcf\\xc2\\xce\\xe7 03:53                19 1,2.py',\n",
       " '2015/09/11 \\xd6\\xdc\\xce\\xe5  \\xc9\\xcf\\xce\\xe7 10:01             1,695 website_price_desc_update.txt',\n",
       " '2015/09/06 \\xd6\\xdc\\xc8\\xd5  \\xcf\\xc2\\xce\\xe7 12:00               912 cid_sPid_mapper.py',\n",
       " '2015/09/09 \\xd6\\xdc\\xc8\\xfd  \\xcf\\xc2\\xce\\xe7 12:55             1,081 wsite_cid_spid_count.txt',\n",
       " '2015/09/07 \\xd6\\xdc\\xd2\\xbb  \\xc9\\xcf\\xce\\xe7 08:31           102,525 website_cid_sPid.ipynb',\n",
       " '2015/09/06 \\xd6\\xdc\\xc8\\xd5  \\xcf\\xc2\\xce\\xe7 03:43         2,866,722 all_website_cid_sPid.txt',\n",
       " '2015/09/10 \\xd6\\xdc\\xcb\\xc4  \\xc9\\xcf\\xce\\xe7 10:09         1,071,921 Hist-all-updae-pre.ipynb',\n",
       " '2015/09/11 \\xd6\\xdc\\xce\\xe5  \\xcf\\xc2\\xce\\xe7 04:01                46 test.txt.ipy',\n",
       " '2015/09/11 \\xd6\\xdc\\xce\\xe5  \\xcf\\xc2\\xce\\xe7 03:51                 0 test.txt',\n",
       " '2015/09/09 \\xd6\\xdc\\xc8\\xfd  \\xcf\\xc2\\xce\\xe7 02:18             2,753 get_prices_by_cid_wsite.py',\n",
       " '2015/09/08 \\xd6\\xdc\\xb6\\xfe  \\xcf\\xc2\\xce\\xe7 02:35           447,439 Hist.ipynb',\n",
       " '2015/09/10 \\xd6\\xdc\\xcb\\xc4  \\xcf\\xc2\\xce\\xe7 05:26    <DIR>          image',\n",
       " '2015/09/10 \\xd6\\xdc\\xcb\\xc4  \\xcf\\xc2\\xce\\xe7 02:07             2,453 Untitled.ipynb',\n",
       " '2015/09/09 \\xd6\\xdc\\xc8\\xfd  \\xcf\\xc2\\xce\\xe7 02:02               754 cid_sPid_reducer.py',\n",
       " '2015/09/10 \\xd6\\xdc\\xcb\\xc4  \\xcf\\xc2\\xce\\xe7 03:37               330 target_wsite_cid.txt',\n",
       " '2015/09/11 \\xd6\\xdc\\xce\\xe5  \\xcf\\xc2\\xce\\xe7 03:05             1,440 price_detect.py',\n",
       " '2015/09/11 \\xd6\\xdc\\xce\\xe5  \\xcf\\xc2\\xce\\xe7 03:53                19 2.py',\n",
       " '2015/09/10 \\xd6\\xdc\\xcb\\xc4  \\xc9\\xcf\\xce\\xe7 10:18               275 wsite_cid_spie_count.py',\n",
       " '2015/09/14 \\xd6\\xdc\\xd2\\xbb  \\xcf\\xc2\\xce\\xe7 07:46         1,279,820 plot_bar_pie.ipynb',\n",
       " '2015/09/14 \\xd6\\xdc\\xd2\\xbb  \\xcf\\xc2\\xce\\xe7 04:25         1,193,088 Hist-all-update2.ipynb',\n",
       " '2015/09/10 \\xd6\\xdc\\xcb\\xc4  \\xc9\\xcf\\xce\\xe7 09:42           796,991 Hist-all -copy.ipynb',\n",
       " '2015/09/11 \\xd6\\xdc\\xce\\xe5  \\xc9\\xcf\\xce\\xe7 09:17             2,037 price_detct.py-bak',\n",
       " '2015/09/08 \\xd6\\xdc\\xb6\\xfe  \\xcf\\xc2\\xce\\xe7 07:38            12,099 price_dis.txt',\n",
       " '2015/09/09 \\xd6\\xdc\\xc8\\xfd  \\xcf\\xc2\\xce\\xe7 03:34           844,845 Hist-all.ipynb',\n",
       " '32 \\xb8\\xf6\\xce\\xc4\\xbc\\xfe     10,482,590 \\xd7\\xd6\\xbd\\xda',\n",
       " '3 \\xb8\\xf6\\xc4\\xbf\\xc2\\xbc 304,350,199,808 \\xbf\\xc9\\xd3\\xc3\\xd7\\xd6\\xbd\\xda']"
      ]
     },
     "execution_count": 276,
     "metadata": {},
     "output_type": "execute_result"
    }
   ],
   "source": [
    "list(run_cmd_then_yield_stdout('dir'))"
   ]
  },
  {
   "cell_type": "code",
   "execution_count": null,
   "metadata": {
    "collapsed": true
   },
   "outputs": [],
   "source": [
    "def run_cmd_then_yield_stdout(cmd_str):\n",
    "    import subprocess\n",
    "    process = subprocess.Popen(cmd_str, shell=True, stdout=subprocess.PIPE)\n",
    "    stdout_value = process.communicate()[0]\n",
    "    for line in stdout_value:\n",
    "        yield line.strip()"
   ]
  },
  {
   "cell_type": "code",
   "execution_count": 277,
   "metadata": {
    "collapsed": false
   },
   "outputs": [
    {
     "data": {
      "text/plain": [
       "['\\xc7\\xfd\\xb6\\xaf\\xc6\\xf7 Z \\xd6\\xd0\\xb5\\xc4\\xbe\\xed\\xca\\xc7 caiguoxiong',\n",
       " '\\xbe\\xed\\xb5\\xc4\\xd0\\xf2\\xc1\\xd0\\xba\\xc5\\xca\\xc7 56B6-4304',\n",
       " '',\n",
       " 'Z:\\\\guoxiong\\\\price_monitor-3.0 \\xb5\\xc4\\xc4\\xbf\\xc2\\xbc',\n",
       " '',\n",
       " '2015/09/16 \\xd6\\xdc\\xc8\\xfd  \\xcf\\xc2\\xce\\xe7 03:33    <DIR>          .',\n",
       " '2015/09/06 \\xd6\\xdc\\xc8\\xd5  \\xcf\\xc2\\xce\\xe7 04:50    <DIR>          ..',\n",
       " '2015/09/11 \\xd6\\xdc\\xce\\xe5  \\xcf\\xc2\\xce\\xe7 02:55         1,169,161 Hist-all-update.ipynb',\n",
       " '2015/09/11 \\xd6\\xdc\\xce\\xe5  \\xcf\\xc2\\xce\\xe7 02:03             1,138 website_price_desc.txt',\n",
       " '2015/09/11 \\xd6\\xdc\\xce\\xe5  \\xcf\\xc2\\xce\\xe7 03:04             5,388 README',\n",
       " '2015/09/07 \\xd6\\xdc\\xd2\\xbb  \\xcf\\xc2\\xce\\xe7 02:56               846 website_cid.txt',\n",
       " '2015/09/11 \\xd6\\xdc\\xce\\xe5  \\xcf\\xc2\\xce\\xe7 04:00               121 test.txt.py',\n",
       " '2015/09/11 \\xd6\\xdc\\xce\\xe5  \\xcf\\xc2\\xce\\xe7 03:07             3,313 get_cid_spid_prices.py',\n",
       " '2015/09/10 \\xd6\\xdc\\xcb\\xc4  \\xc9\\xcf\\xce\\xe7 10:07               200 app.ini',\n",
       " '2015/09/08 \\xd6\\xdc\\xb6\\xfe  \\xcf\\xc2\\xce\\xe7 01:53           469,051 Hist.ipynb-bak',\n",
       " '2015/09/16 \\xd6\\xdc\\xc8\\xfd  \\xcf\\xc2\\xce\\xe7 03:53           209,213 numpy\\xd2\\xbb\\xd0\\xa9\\xb2\\xe2\\xca\\xd4.ipynb',\n",
       " '2015/09/11 \\xd6\\xdc\\xce\\xe5  \\xcf\\xc2\\xce\\xe7 03:53                19 1,2.py',\n",
       " '2015/09/11 \\xd6\\xdc\\xce\\xe5  \\xc9\\xcf\\xce\\xe7 10:01             1,695 website_price_desc_update.txt',\n",
       " '2015/09/06 \\xd6\\xdc\\xc8\\xd5  \\xcf\\xc2\\xce\\xe7 12:00               912 cid_sPid_mapper.py',\n",
       " '2015/09/09 \\xd6\\xdc\\xc8\\xfd  \\xcf\\xc2\\xce\\xe7 12:55             1,081 wsite_cid_spid_count.txt',\n",
       " '2015/09/07 \\xd6\\xdc\\xd2\\xbb  \\xc9\\xcf\\xce\\xe7 08:31           102,525 website_cid_sPid.ipynb',\n",
       " '2015/09/06 \\xd6\\xdc\\xc8\\xd5  \\xcf\\xc2\\xce\\xe7 03:43         2,866,722 all_website_cid_sPid.txt',\n",
       " '2015/09/10 \\xd6\\xdc\\xcb\\xc4  \\xc9\\xcf\\xce\\xe7 10:09         1,071,921 Hist-all-updae-pre.ipynb',\n",
       " '2015/09/11 \\xd6\\xdc\\xce\\xe5  \\xcf\\xc2\\xce\\xe7 04:01                46 test.txt.ipy',\n",
       " '2015/09/11 \\xd6\\xdc\\xce\\xe5  \\xcf\\xc2\\xce\\xe7 03:51                 0 test.txt',\n",
       " '2015/09/09 \\xd6\\xdc\\xc8\\xfd  \\xcf\\xc2\\xce\\xe7 02:18             2,753 get_prices_by_cid_wsite.py',\n",
       " '2015/09/08 \\xd6\\xdc\\xb6\\xfe  \\xcf\\xc2\\xce\\xe7 02:35           447,439 Hist.ipynb',\n",
       " '2015/09/10 \\xd6\\xdc\\xcb\\xc4  \\xcf\\xc2\\xce\\xe7 05:26    <DIR>          image',\n",
       " '2015/09/10 \\xd6\\xdc\\xcb\\xc4  \\xcf\\xc2\\xce\\xe7 02:07             2,453 Untitled.ipynb',\n",
       " '2015/09/09 \\xd6\\xdc\\xc8\\xfd  \\xcf\\xc2\\xce\\xe7 02:02               754 cid_sPid_reducer.py',\n",
       " '2015/09/10 \\xd6\\xdc\\xcb\\xc4  \\xcf\\xc2\\xce\\xe7 03:37               330 target_wsite_cid.txt',\n",
       " '2015/09/11 \\xd6\\xdc\\xce\\xe5  \\xcf\\xc2\\xce\\xe7 03:05             1,440 price_detect.py',\n",
       " '2015/09/11 \\xd6\\xdc\\xce\\xe5  \\xcf\\xc2\\xce\\xe7 03:53                19 2.py',\n",
       " '2015/09/10 \\xd6\\xdc\\xcb\\xc4  \\xc9\\xcf\\xce\\xe7 10:18               275 wsite_cid_spie_count.py',\n",
       " '2015/09/14 \\xd6\\xdc\\xd2\\xbb  \\xcf\\xc2\\xce\\xe7 07:46         1,279,820 plot_bar_pie.ipynb',\n",
       " '2015/09/14 \\xd6\\xdc\\xd2\\xbb  \\xcf\\xc2\\xce\\xe7 04:25         1,193,088 Hist-all-update2.ipynb',\n",
       " '2015/09/10 \\xd6\\xdc\\xcb\\xc4  \\xc9\\xcf\\xce\\xe7 09:42           796,991 Hist-all -copy.ipynb',\n",
       " '2015/09/11 \\xd6\\xdc\\xce\\xe5  \\xc9\\xcf\\xce\\xe7 09:17             2,037 price_detct.py-bak',\n",
       " '2015/09/08 \\xd6\\xdc\\xb6\\xfe  \\xcf\\xc2\\xce\\xe7 07:38            12,099 price_dis.txt',\n",
       " '2015/09/09 \\xd6\\xdc\\xc8\\xfd  \\xcf\\xc2\\xce\\xe7 03:34           844,845 Hist-all.ipynb',\n",
       " '32 \\xb8\\xf6\\xce\\xc4\\xbc\\xfe     10,487,695 \\xd7\\xd6\\xbd\\xda',\n",
       " '3 \\xb8\\xf6\\xc4\\xbf\\xc2\\xbc 304,349,650,944 \\xbf\\xc9\\xd3\\xc3\\xd7\\xd6\\xbd\\xda']"
      ]
     },
     "execution_count": 277,
     "metadata": {},
     "output_type": "execute_result"
    }
   ],
   "source": [
    "list(run_cmd_then_yield_stdout('dir'))"
   ]
  },
  {
   "cell_type": "code",
   "execution_count": 234,
   "metadata": {
    "collapsed": false
   },
   "outputs": [],
   "source": [
    "data = bytearray('\\x01')\n",
    "ndata = np.frombuffer(data, np.int8)"
   ]
  },
  {
   "cell_type": "code",
   "execution_count": 235,
   "metadata": {
    "collapsed": false
   },
   "outputs": [
    {
     "name": "stdout",
     "output_type": "stream",
     "text": [
      "[1]\n"
     ]
    }
   ],
   "source": [
    "print ndata"
   ]
  },
  {
   "cell_type": "code",
   "execution_count": 239,
   "metadata": {
    "collapsed": false
   },
   "outputs": [],
   "source": [
    "ndata[0]=10"
   ]
  },
  {
   "cell_type": "code",
   "execution_count": 241,
   "metadata": {
    "collapsed": false
   },
   "outputs": [
    {
     "data": {
      "text/plain": [
       "array([10], dtype=int8)"
      ]
     },
     "execution_count": 241,
     "metadata": {},
     "output_type": "execute_result"
    }
   ],
   "source": [
    "ndata"
   ]
  },
  {
   "cell_type": "code",
   "execution_count": 33,
   "metadata": {
    "collapsed": false
   },
   "outputs": [
    {
     "name": "stdout",
     "output_type": "stream",
     "text": [
      "[0 1 2 3 4 5 6 7 8 9]\n",
      "0.9 22.5\n"
     ]
    }
   ],
   "source": [
    "x=[i for i in range(10)]\n",
    "import numpy as np\n",
    "y = np.array(x)\n",
    "median_price = np.median(y)\n",
    "low_limit, upper_limit = 0.2*median_price, 5*median_price\n",
    "print y\n",
    "print  low_limit, upper_limit\n"
   ]
  },
  {
   "cell_type": "code",
   "execution_count": 9,
   "metadata": {
    "collapsed": false
   },
   "outputs": [
    {
     "name": "stdout",
     "output_type": "stream",
     "text": [
      "[False False  True  True  True  True  True  True]\n",
      "[ True  True  True  True False False False False]\n",
      "[False False  True  True False False False False]\n"
     ]
    }
   ],
   "source": [
    "import numpy as np \n",
    "z = np.array([1,2,3,4,5,6,5,7])\n",
    "\n",
    "print (2 < z) \n",
    "# z[1<z<6]\n",
    "print (5 > z)\n",
    "print (2 < z) & (5 > z)\n",
    "\n",
    "# print z[(2 < z) & (5 > z)]\n",
    "# print z[(2 < z) * (5 > z)]"
   ]
  },
  {
   "cell_type": "code",
   "execution_count": 35,
   "metadata": {
    "collapsed": false
   },
   "outputs": [
    {
     "name": "stdout",
     "output_type": "stream",
     "text": [
      "[array([1, 2, 3, 4, 5, 6, 5, 7])]\n"
     ]
    }
   ],
   "source": [
    "d =[]\n",
    "d.append(z)\n",
    "print d"
   ]
  },
  {
   "cell_type": "code",
   "execution_count": 40,
   "metadata": {
    "collapsed": false
   },
   "outputs": [
    {
     "data": {
      "text/plain": [
       "list"
      ]
     },
     "execution_count": 40,
     "metadata": {},
     "output_type": "execute_result"
    }
   ],
   "source": [
    "cid_prices = []\n",
    "cid_prices.extend(z)\n",
    "type(cid_prices),"
   ]
  },
  {
   "cell_type": "code",
   "execution_count": 41,
   "metadata": {
    "collapsed": false
   },
   "outputs": [
    {
     "data": {
      "text/plain": [
       "2.5"
      ]
     },
     "execution_count": 41,
     "metadata": {},
     "output_type": "execute_result"
    }
   ],
   "source": [
    "np.median([1,2,3,4])"
   ]
  },
  {
   "cell_type": "code",
   "execution_count": 42,
   "metadata": {
    "collapsed": false
   },
   "outputs": [
    {
     "data": {
      "text/plain": [
       "array([  1. ,  33.3,   4.2])"
      ]
     },
     "execution_count": 42,
     "metadata": {},
     "output_type": "execute_result"
    }
   ],
   "source": [
    "np.round([1,33.333,4.21], 1)\n"
   ]
  },
  {
   "cell_type": "code",
   "execution_count": 47,
   "metadata": {
    "collapsed": false
   },
   "outputs": [
    {
     "data": {
      "text/plain": [
       "True"
      ]
     },
     "execution_count": 47,
     "metadata": {},
     "output_type": "execute_result"
    }
   ],
   "source": [
    "1000 < 'inf'"
   ]
  },
  {
   "cell_type": "code",
   "execution_count": 1,
   "metadata": {
    "collapsed": false
   },
   "outputs": [
    {
     "ename": "NameError",
     "evalue": "name 'inf' is not defined",
     "output_type": "error",
     "traceback": [
      "\u001b[1;31m---------------------------------------------------------------------------\u001b[0m",
      "\u001b[1;31mNameError\u001b[0m                                 Traceback (most recent call last)",
      "\u001b[1;32m<ipython-input-1-1665a97ac9c6>\u001b[0m in \u001b[0;36m<module>\u001b[1;34m()\u001b[0m\n\u001b[0;32m      1\u001b[0m \u001b[1;32mimport\u001b[0m \u001b[0mnumpy\u001b[0m \u001b[1;32mas\u001b[0m \u001b[0mnp\u001b[0m\u001b[1;33m\u001b[0m\u001b[0m\n\u001b[0;32m      2\u001b[0m \u001b[0mx\u001b[0m \u001b[1;33m=\u001b[0m \u001b[1;36m2\u001b[0m\u001b[1;33m\u001b[0m\u001b[0m\n\u001b[1;32m----> 3\u001b[1;33m \u001b[0minf\u001b[0m \u001b[1;33m>\u001b[0m \u001b[1;36m1\u001b[0m\u001b[1;33m\u001b[0m\u001b[0m\n\u001b[0m",
      "\u001b[1;31mNameError\u001b[0m: name 'inf' is not defined"
     ]
    }
   ],
   "source": [
    "import numpy as np\n",
    "x = 2\n",
    "inf > 1"
   ]
  },
  {
   "cell_type": "code",
   "execution_count": 2,
   "metadata": {
    "collapsed": false
   },
   "outputs": [
    {
     "name": "stdout",
     "output_type": "stream",
     "text": [
      "> \u001b[1;32m<ipython-input-1-1665a97ac9c6>\u001b[0m(3)\u001b[0;36m<module>\u001b[1;34m()\u001b[0m\n",
      "\u001b[1;32m      1 \u001b[1;33m\u001b[1;32mimport\u001b[0m \u001b[0mnumpy\u001b[0m \u001b[1;32mas\u001b[0m \u001b[0mnp\u001b[0m\u001b[1;33m\u001b[0m\u001b[0m\n",
      "\u001b[0m\u001b[1;32m      2 \u001b[1;33m\u001b[0mx\u001b[0m \u001b[1;33m=\u001b[0m \u001b[1;36m2\u001b[0m\u001b[1;33m\u001b[0m\u001b[0m\n",
      "\u001b[0m\u001b[1;32m----> 3 \u001b[1;33m\u001b[0minf\u001b[0m \u001b[1;33m>\u001b[0m \u001b[1;36m1\u001b[0m\u001b[1;33m\u001b[0m\u001b[0m\n",
      "\u001b[0m\n",
      "ipdb> x\n",
      "2\n",
      "ipdb> np.array([1,2,3])\n",
      "array([1, 2, 3])\n",
      "ipdb> \n",
      "array([1, 2, 3])\n",
      "ipdb> exit\n"
     ]
    }
   ],
   "source": [
    "%debug"
   ]
  },
  {
   "cell_type": "code",
   "execution_count": 3,
   "metadata": {
    "collapsed": false
   },
   "outputs": [
    {
     "data": {
      "text/plain": [
       "array([0])"
      ]
     },
     "execution_count": 3,
     "metadata": {},
     "output_type": "execute_result"
    }
   ],
   "source": [
    "np.array([90])//100"
   ]
  },
  {
   "cell_type": "code",
   "execution_count": 28,
   "metadata": {
    "collapsed": false
   },
   "outputs": [
    {
     "data": {
      "text/plain": [
       "array([ 1.  ,  1.75,  2.5 ,  3.25,  4.  ])"
      ]
     },
     "execution_count": 28,
     "metadata": {},
     "output_type": "execute_result"
    }
   ],
   "source": [
    "np.percentile([1,2,3,4],q=[0,25,50,75,100])"
   ]
  },
  {
   "cell_type": "code",
   "execution_count": 35,
   "metadata": {
    "collapsed": false
   },
   "outputs": [
    {
     "name": "stdout",
     "output_type": "stream",
     "text": [
      "[99]\n"
     ]
    }
   ],
   "source": [
    "print np.array([9900])//100"
   ]
  },
  {
   "cell_type": "code",
   "execution_count": 53,
   "metadata": {
    "collapsed": false
   },
   "outputs": [
    {
     "name": "stdout",
     "output_type": "stream",
     "text": [
      "Wall time: 0 ns\n"
     ]
    }
   ],
   "source": [
    "%%time\n",
    "# for i in range(1000):\n",
    "#     print i,\n",
    "def test_fun(n):\n",
    "    x = list()\n",
    "    for i in xrange(n):\n",
    "        x.append(i)\n"
   ]
  },
  {
   "cell_type": "code",
   "execution_count": 51,
   "metadata": {
    "collapsed": false
   },
   "outputs": [
    {
     "data": {
      "application/json": {
       "cell": {
        "!": "OSMagics",
        "HTML": "Other",
        "SVG": "Other",
        "bash": "Other",
        "capture": "ExecutionMagics",
        "cmd": "Other",
        "debug": "ExecutionMagics",
        "file": "Other",
        "html": "DisplayMagics",
        "javascript": "DisplayMagics",
        "latex": "DisplayMagics",
        "perl": "Other",
        "prun": "ExecutionMagics",
        "pypy": "Other",
        "python": "Other",
        "python2": "Other",
        "python3": "Other",
        "ruby": "Other",
        "script": "ScriptMagics",
        "sh": "Other",
        "svg": "DisplayMagics",
        "sx": "OSMagics",
        "system": "OSMagics",
        "time": "ExecutionMagics",
        "timeit": "ExecutionMagics",
        "writefile": "OSMagics"
       },
       "line": {
        "alias": "OSMagics",
        "alias_magic": "BasicMagics",
        "autocall": "AutoMagics",
        "automagic": "AutoMagics",
        "autosave": "KernelMagics",
        "bookmark": "OSMagics",
        "cd": "OSMagics",
        "clear": "KernelMagics",
        "cls": "KernelMagics",
        "colors": "BasicMagics",
        "config": "ConfigMagics",
        "connect_info": "KernelMagics",
        "copy": "Other",
        "ddir": "Other",
        "debug": "ExecutionMagics",
        "dhist": "OSMagics",
        "dirs": "OSMagics",
        "doctest_mode": "BasicMagics",
        "echo": "Other",
        "ed": "Other",
        "edit": "KernelMagics",
        "env": "OSMagics",
        "gui": "BasicMagics",
        "hist": "Other",
        "history": "HistoryMagics",
        "install_default_config": "DeprecatedMagics",
        "install_ext": "ExtensionMagics",
        "install_profiles": "DeprecatedMagics",
        "killbgscripts": "ScriptMagics",
        "ldir": "Other",
        "less": "KernelMagics",
        "load": "CodeMagics",
        "load_ext": "ExtensionMagics",
        "loadpy": "CodeMagics",
        "logoff": "LoggingMagics",
        "logon": "LoggingMagics",
        "logstart": "LoggingMagics",
        "logstate": "LoggingMagics",
        "logstop": "LoggingMagics",
        "ls": "Other",
        "lsmagic": "BasicMagics",
        "macro": "ExecutionMagics",
        "magic": "BasicMagics",
        "matplotlib": "PylabMagics",
        "mkdir": "Other",
        "more": "KernelMagics",
        "notebook": "BasicMagics",
        "page": "BasicMagics",
        "pastebin": "CodeMagics",
        "pdb": "ExecutionMagics",
        "pdef": "NamespaceMagics",
        "pdoc": "NamespaceMagics",
        "pfile": "NamespaceMagics",
        "pinfo": "NamespaceMagics",
        "pinfo2": "NamespaceMagics",
        "popd": "OSMagics",
        "pprint": "BasicMagics",
        "precision": "BasicMagics",
        "profile": "BasicMagics",
        "prun": "ExecutionMagics",
        "psearch": "NamespaceMagics",
        "psource": "NamespaceMagics",
        "pushd": "OSMagics",
        "pwd": "OSMagics",
        "pycat": "OSMagics",
        "pylab": "PylabMagics",
        "qtconsole": "KernelMagics",
        "quickref": "BasicMagics",
        "recall": "HistoryMagics",
        "rehashx": "OSMagics",
        "reload_ext": "ExtensionMagics",
        "ren": "Other",
        "rep": "Other",
        "rerun": "HistoryMagics",
        "reset": "NamespaceMagics",
        "reset_selective": "NamespaceMagics",
        "rmdir": "Other",
        "run": "ExecutionMagics",
        "save": "CodeMagics",
        "sc": "OSMagics",
        "set_env": "OSMagics",
        "store": "StoreMagics",
        "sx": "OSMagics",
        "system": "OSMagics",
        "tb": "ExecutionMagics",
        "time": "ExecutionMagics",
        "timeit": "ExecutionMagics",
        "unalias": "OSMagics",
        "unload_ext": "ExtensionMagics",
        "who": "NamespaceMagics",
        "who_ls": "NamespaceMagics",
        "whos": "NamespaceMagics",
        "xdel": "NamespaceMagics",
        "xmode": "BasicMagics"
       }
      },
      "text/plain": [
       "Available line magics:\n",
       "%alias  %alias_magic  %autocall  %automagic  %autosave  %bookmark  %cd  %clear  %cls  %colors  %config  %connect_info  %copy  %ddir  %debug  %dhist  %dirs  %doctest_mode  %echo  %ed  %edit  %env  %gui  %hist  %history  %install_default_config  %install_ext  %install_profiles  %killbgscripts  %ldir  %less  %load  %load_ext  %loadpy  %logoff  %logon  %logstart  %logstate  %logstop  %ls  %lsmagic  %macro  %magic  %matplotlib  %mkdir  %more  %notebook  %page  %pastebin  %pdb  %pdef  %pdoc  %pfile  %pinfo  %pinfo2  %popd  %pprint  %precision  %profile  %prun  %psearch  %psource  %pushd  %pwd  %pycat  %pylab  %qtconsole  %quickref  %recall  %rehashx  %reload_ext  %ren  %rep  %rerun  %reset  %reset_selective  %rmdir  %run  %save  %sc  %set_env  %store  %sx  %system  %tb  %time  %timeit  %unalias  %unload_ext  %who  %who_ls  %whos  %xdel  %xmode\n",
       "\n",
       "Available cell magics:\n",
       "%%!  %%HTML  %%SVG  %%bash  %%capture  %%cmd  %%debug  %%file  %%html  %%javascript  %%latex  %%perl  %%prun  %%pypy  %%python  %%python2  %%python3  %%ruby  %%script  %%sh  %%svg  %%sx  %%system  %%time  %%timeit  %%writefile\n",
       "\n",
       "Automagic is ON, % prefix IS NOT needed for line magics."
      ]
     },
     "execution_count": 51,
     "metadata": {},
     "output_type": "execute_result"
    }
   ],
   "source": [
    "%lsmagic"
   ]
  },
  {
   "cell_type": "code",
   "execution_count": 23,
   "metadata": {
    "collapsed": true
   },
   "outputs": [],
   "source": [
    "%quickref"
   ]
  },
  {
   "cell_type": "code",
   "execution_count": 22,
   "metadata": {
    "collapsed": false
   },
   "outputs": [],
   "source": [
    "%less get_cid_spid_prices.py"
   ]
  },
  {
   "cell_type": "code",
   "execution_count": 1,
   "metadata": {
    "collapsed": true
   },
   "outputs": [],
   "source": [
    "import numpy as np"
   ]
  },
  {
   "cell_type": "code",
   "execution_count": 3,
   "metadata": {
    "collapsed": false
   },
   "outputs": [
    {
     "ename": "AttributeError",
     "evalue": "'numpy.ndarray' object has no attribute 'concatenate'",
     "output_type": "error",
     "traceback": [
      "\u001b[1;31m---------------------------------------------------------------------------\u001b[0m",
      "\u001b[1;31mAttributeError\u001b[0m                            Traceback (most recent call last)",
      "\u001b[1;32m<ipython-input-3-8109d46165ee>\u001b[0m in \u001b[0;36m<module>\u001b[1;34m()\u001b[0m\n\u001b[0;32m      2\u001b[0m \u001b[0mb\u001b[0m \u001b[1;33m=\u001b[0m \u001b[0mnp\u001b[0m\u001b[1;33m.\u001b[0m\u001b[0marray\u001b[0m\u001b[1;33m(\u001b[0m\u001b[1;33m[\u001b[0m\u001b[1;36m3\u001b[0m\u001b[1;33m,\u001b[0m\u001b[1;36m4\u001b[0m\u001b[1;33m]\u001b[0m\u001b[1;33m)\u001b[0m\u001b[1;33m\u001b[0m\u001b[0m\n\u001b[0;32m      3\u001b[0m \u001b[0mnp\u001b[0m\u001b[1;33m.\u001b[0m\u001b[0mconcatenate\u001b[0m\u001b[1;33m(\u001b[0m\u001b[1;33m(\u001b[0m\u001b[0ma\u001b[0m\u001b[1;33m,\u001b[0m\u001b[0mb\u001b[0m\u001b[1;33m)\u001b[0m\u001b[1;33m)\u001b[0m\u001b[1;33m\u001b[0m\u001b[0m\n\u001b[1;32m----> 4\u001b[1;33m \u001b[0ma\u001b[0m\u001b[1;33m.\u001b[0m\u001b[0mconcatenate\u001b[0m\u001b[1;33m(\u001b[0m\u001b[0mb\u001b[0m\u001b[1;33m)\u001b[0m\u001b[1;33m\u001b[0m\u001b[0m\n\u001b[0m",
      "\u001b[1;31mAttributeError\u001b[0m: 'numpy.ndarray' object has no attribute 'concatenate'"
     ]
    }
   ],
   "source": [
    "a = np.array([1,2])\n",
    "b = np.array([3,4])\n",
    "np.concatenate((a,b))\n",
    "a.concatenate(b)"
   ]
  },
  {
   "cell_type": "code",
   "execution_count": 8,
   "metadata": {
    "collapsed": false
   },
   "outputs": [
    {
     "ename": "ValueError",
     "evalue": "zero-valued itemsize",
     "output_type": "error",
     "traceback": [
      "\u001b[1;31m---------------------------------------------------------------------------\u001b[0m",
      "\u001b[1;31mValueError\u001b[0m                                Traceback (most recent call last)",
      "\u001b[1;32m<ipython-input-8-6af6b0d3b95f>\u001b[0m in \u001b[0;36m<module>\u001b[1;34m()\u001b[0m\n\u001b[0;32m      1\u001b[0m \u001b[0ms\u001b[0m \u001b[1;33m=\u001b[0m \u001b[1;34m\"abcdefgh\"\u001b[0m\u001b[1;33m\u001b[0m\u001b[0m\n\u001b[1;32m----> 2\u001b[1;33m \u001b[0mnp\u001b[0m\u001b[1;33m.\u001b[0m\u001b[0mfromstring\u001b[0m\u001b[1;33m(\u001b[0m\u001b[0ms\u001b[0m\u001b[1;33m,\u001b[0m \u001b[0mdtype\u001b[0m\u001b[1;33m=\u001b[0m\u001b[1;34m'S'\u001b[0m\u001b[1;33m)\u001b[0m\u001b[1;33m\u001b[0m\u001b[0m\n\u001b[0m",
      "\u001b[1;31mValueError\u001b[0m: zero-valued itemsize"
     ]
    }
   ],
   "source": [
    "s = \"abcdefgh\"\n",
    "np.fromstring(s, dtype='S')"
   ]
  },
  {
   "cell_type": "code",
   "execution_count": 6,
   "metadata": {
    "collapsed": false,
    "scrolled": false
   },
   "outputs": [
    {
     "data": {
      "text/plain": [
       "{0: numpy.bool_,\n",
       " 1: numpy.int8,\n",
       " 2: numpy.uint8,\n",
       " 3: numpy.int16,\n",
       " 4: numpy.uint16,\n",
       " 5: numpy.int32,\n",
       " 6: numpy.uint32,\n",
       " 7: numpy.int32,\n",
       " 8: numpy.uint32,\n",
       " 9: numpy.int64,\n",
       " 10: numpy.uint64,\n",
       " 11: numpy.float32,\n",
       " 12: numpy.float64,\n",
       " 13: numpy.float64,\n",
       " 14: numpy.complex64,\n",
       " 15: numpy.complex128,\n",
       " 16: numpy.complex128,\n",
       " 17: numpy.object_,\n",
       " 18: numpy.string_,\n",
       " 19: numpy.unicode_,\n",
       " 20: numpy.void,\n",
       " 21: numpy.datetime64,\n",
       " 22: numpy.timedelta64,\n",
       " 23: numpy.float16,\n",
       " '?': numpy.bool_,\n",
       " 'B': numpy.uint8,\n",
       " 'Bool': numpy.bool_,\n",
       " 'Complex32': numpy.complex64,\n",
       " 'Complex64': numpy.complex128,\n",
       " 'D': numpy.complex128,\n",
       " 'Datetime64': numpy.datetime64,\n",
       " 'F': numpy.complex64,\n",
       " 'Float16': numpy.float16,\n",
       " 'Float32': numpy.float32,\n",
       " 'Float64': numpy.float64,\n",
       " 'G': numpy.complex128,\n",
       " 'H': numpy.uint16,\n",
       " 'I': numpy.uint32,\n",
       " 'Int16': numpy.int16,\n",
       " 'Int32': numpy.int32,\n",
       " 'Int64': numpy.int64,\n",
       " 'Int8': numpy.int8,\n",
       " 'L': numpy.uint32,\n",
       " 'M': numpy.datetime64,\n",
       " 'M8': numpy.datetime64,\n",
       " 'O': numpy.object_,\n",
       " 'O8': numpy.object_,\n",
       " 'Object0': numpy.object_,\n",
       " 'P': numpy.uint64,\n",
       " 'Q': numpy.uint64,\n",
       " 'S': numpy.string_,\n",
       " 'String0': numpy.string_,\n",
       " 'Timedelta64': numpy.timedelta64,\n",
       " 'U': numpy.unicode_,\n",
       " 'UInt16': numpy.uint16,\n",
       " 'UInt32': numpy.uint32,\n",
       " 'UInt64': numpy.uint64,\n",
       " 'UInt8': numpy.uint8,\n",
       " 'Unicode0': numpy.unicode_,\n",
       " 'V': numpy.void,\n",
       " 'Void0': numpy.void,\n",
       " 'a': numpy.string_,\n",
       " 'b': numpy.int8,\n",
       " 'b1': numpy.bool_,\n",
       " 'bool': numpy.bool_,\n",
       " 'bool8': numpy.bool_,\n",
       " 'bool_': numpy.bool_,\n",
       " 'byte': numpy.int8,\n",
       " 'bytes_': numpy.string_,\n",
       " 'c16': numpy.complex128,\n",
       " 'c8': numpy.complex64,\n",
       " 'cdouble': numpy.complex128,\n",
       " 'cfloat': numpy.complex128,\n",
       " 'clongdouble': numpy.complex128,\n",
       " 'clongfloat': numpy.complex128,\n",
       " 'complex': numpy.complex128,\n",
       " 'complex128': numpy.complex128,\n",
       " 'complex64': numpy.complex64,\n",
       " 'complex_': numpy.complex128,\n",
       " 'csingle': numpy.complex64,\n",
       " 'd': numpy.float64,\n",
       " 'datetime64': numpy.datetime64,\n",
       " 'double': numpy.float64,\n",
       " 'e': numpy.float16,\n",
       " 'f': numpy.float32,\n",
       " 'f2': numpy.float16,\n",
       " 'f4': numpy.float32,\n",
       " 'f8': numpy.float64,\n",
       " 'float': numpy.float64,\n",
       " 'float16': numpy.float16,\n",
       " 'float32': numpy.float32,\n",
       " 'float64': numpy.float64,\n",
       " 'float_': numpy.float64,\n",
       " 'g': numpy.float64,\n",
       " 'h': numpy.int16,\n",
       " 'half': numpy.float16,\n",
       " 'i': numpy.int32,\n",
       " 'i1': numpy.int8,\n",
       " 'i2': numpy.int16,\n",
       " 'i4': numpy.int32,\n",
       " 'i8': numpy.int64,\n",
       " 'int': numpy.int32,\n",
       " 'int0': numpy.int64,\n",
       " 'int16': numpy.int16,\n",
       " 'int32': numpy.int32,\n",
       " 'int64': numpy.int64,\n",
       " 'int8': numpy.int8,\n",
       " 'int_': numpy.int32,\n",
       " 'intc': numpy.int32,\n",
       " 'intp': numpy.int64,\n",
       " 'l': numpy.int32,\n",
       " 'longcomplex': numpy.complex128,\n",
       " 'longdouble': numpy.float64,\n",
       " 'longfloat': numpy.float64,\n",
       " 'longlong': numpy.int64,\n",
       " 'm': numpy.timedelta64,\n",
       " 'm8': numpy.timedelta64,\n",
       " 'object': numpy.object_,\n",
       " 'object0': numpy.object_,\n",
       " 'object_': numpy.object_,\n",
       " 'p': numpy.int64,\n",
       " 'q': numpy.int64,\n",
       " 'short': numpy.int16,\n",
       " 'single': numpy.float32,\n",
       " 'singlecomplex': numpy.complex64,\n",
       " 'str': numpy.string_,\n",
       " 'str_': numpy.string_,\n",
       " 'string': numpy.string_,\n",
       " 'string0': numpy.string_,\n",
       " 'string_': numpy.string_,\n",
       " 'timedelta64': numpy.timedelta64,\n",
       " 'u1': numpy.uint8,\n",
       " 'u2': numpy.uint16,\n",
       " 'u4': numpy.uint32,\n",
       " 'u8': numpy.uint64,\n",
       " 'ubyte': numpy.uint8,\n",
       " 'uint': numpy.uint32,\n",
       " 'uint0': numpy.uint64,\n",
       " 'uint16': numpy.uint16,\n",
       " 'uint32': numpy.uint32,\n",
       " 'uint64': numpy.uint64,\n",
       " 'uint8': numpy.uint8,\n",
       " 'uintc': numpy.uint32,\n",
       " 'uintp': numpy.uint64,\n",
       " 'ulonglong': numpy.uint64,\n",
       " 'unicode': numpy.unicode_,\n",
       " 'unicode0': numpy.unicode_,\n",
       " 'unicode_': numpy.unicode_,\n",
       " 'ushort': numpy.uint16,\n",
       " 'void': numpy.void,\n",
       " 'void0': numpy.void}"
      ]
     },
     "execution_count": 6,
     "metadata": {},
     "output_type": "execute_result"
    }
   ],
   "source": [
    "np.typeDict"
   ]
  },
  {
   "cell_type": "code",
   "execution_count": 26,
   "metadata": {
    "collapsed": false
   },
   "outputs": [
    {
     "data": {
      "text/plain": [
       "array([1, 4])"
      ]
     },
     "execution_count": 26,
     "metadata": {},
     "output_type": "execute_result"
    }
   ],
   "source": [
    "a = np.arange(10)\n",
    "a[[1,4]]"
   ]
  },
  {
   "cell_type": "code",
   "execution_count": 15,
   "metadata": {
    "collapsed": false
   },
   "outputs": [
    {
     "data": {
      "text/plain": [
       "array([1, 3, 5])"
      ]
     },
     "execution_count": 15,
     "metadata": {},
     "output_type": "execute_result"
    }
   ],
   "source": [
    "a[[1,3,5]]"
   ]
  },
  {
   "cell_type": "code",
   "execution_count": 10,
   "metadata": {
    "collapsed": false
   },
   "outputs": [
    {
     "data": {
      "text/plain": [
       "4"
      ]
     },
     "execution_count": 10,
     "metadata": {},
     "output_type": "execute_result"
    }
   ],
   "source": [
    "a = [1,4,5,3]\n",
    "a[1]"
   ]
  },
  {
   "cell_type": "code",
   "execution_count": 29,
   "metadata": {
    "collapsed": false
   },
   "outputs": [
    {
     "data": {
      "text/plain": [
       "True"
      ]
     },
     "execution_count": 29,
     "metadata": {},
     "output_type": "execute_result"
    }
   ],
   "source": [
    "float('inf') > 990.115"
   ]
  },
  {
   "cell_type": "code",
   "execution_count": 30,
   "metadata": {
    "collapsed": false
   },
   "outputs": [
    {
     "name": "stdout",
     "output_type": "stream",
     "text": [
      "[('Zhang', 32, 75.5) ('Wang', 24, 65.19999694824219)]\n"
     ]
    }
   ],
   "source": [
    "persontype = np.dtype({\n",
    "    'names':['name', 'age', 'weight'],\n",
    "    'formats':['S32','i', 'f']})\n",
    "a = np.array([(\"Zhang\",32,75.5),(\"Wang\",24,65.2)],\n",
    "    dtype=persontype)\n",
    "print a"
   ]
  },
  {
   "cell_type": "code",
   "execution_count": 37,
   "metadata": {
    "collapsed": false
   },
   "outputs": [
    {
     "name": "stdout",
     "output_type": "stream",
     "text": [
      "[('names', 'S32'), ('age', '<i4'), ('weight', '<f4')] Zhang\n",
      "('Zhang', 32, 75.5)\n",
      "('Wang', 24, 65.19999694824219)\n"
     ]
    }
   ],
   "source": [
    "persontype = np.dtype([('names','S32'), ('age', 'i4'), ('weight','f4')])\n",
    "a = np.array([(\"Zhang\",32,75.5),(\"Wang\",24,65.2)],\n",
    "              dtype=persontype)\n",
    "print a[0].dtype, a[0]['names']\n",
    "for each in a:\n",
    "    print each"
   ]
  },
  {
   "cell_type": "code",
   "execution_count": null,
   "metadata": {
    "collapsed": true
   },
   "outputs": [],
   "source": []
  },
  {
   "cell_type": "code",
   "execution_count": 56,
   "metadata": {
    "collapsed": false
   },
   "outputs": [
    {
     "name": "stdout",
     "output_type": "stream",
     "text": [
      "[('cai', [1.0, 2.0]) ('guo', [2.0, 3.0])]\n",
      "[('name', 'S20'), ('score', '<f4', (2,))]\n",
      "('cai', [1.0, 2.0])\n",
      "float32\n"
     ]
    }
   ],
   "source": [
    "mydtype = np.dtype([('name', 'S20'), ('score', 'f4', (2,))])\n",
    "\n",
    "b = np.array([('cai',[1,2]), ('guo',[2,3])], dtype=mydtype)\n",
    "print b\n",
    "print b.dtype\n",
    "print b[0]\n",
    "print b[0]['score'].dtype"
   ]
  },
  {
   "cell_type": "code",
   "execution_count": 55,
   "metadata": {
    "collapsed": false
   },
   "outputs": [
    {
     "name": "stdout",
     "output_type": "stream",
     "text": [
      "(36L,) (2L,) 2\n"
     ]
    }
   ],
   "source": [
    "print b.strides, b.shape, b.size"
   ]
  },
  {
   "cell_type": "code",
   "execution_count": 59,
   "metadata": {
    "collapsed": false
   },
   "outputs": [
    {
     "data": {
      "text/plain": [
       "array([ 6, 15])"
      ]
     },
     "execution_count": 59,
     "metadata": {},
     "output_type": "execute_result"
    }
   ],
   "source": [
    "np.add.reduce([[1,2,3],[4,5,6]], axis=1) # 1,4 + 2,5 + 3,6"
   ]
  },
  {
   "cell_type": "code",
   "execution_count": 61,
   "metadata": {
    "collapsed": false
   },
   "outputs": [
    {
     "data": {
      "text/plain": [
       "8"
      ]
     },
     "execution_count": 61,
     "metadata": {},
     "output_type": "execute_result"
    }
   ],
   "source": [
    "2**3"
   ]
  },
  {
   "cell_type": "code",
   "execution_count": 79,
   "metadata": {
    "collapsed": false
   },
   "outputs": [
    {
     "name": "stdout",
     "output_type": "stream",
     "text": [
      "[ 0.8536944]\n"
     ]
    }
   ],
   "source": [
    "import scipy.optimize as opt \n",
    "\n",
    "\n",
    "def f(n, a, b, c):\n",
    "    n = float(n)\n",
    "    return [a**n-b**n-c]\n",
    "\n",
    "result = opt.fsolve(f, x0=1, args=(7, 4, 2))\n",
    "print result\n"
   ]
  },
  {
   "cell_type": "code",
   "execution_count": null,
   "metadata": {
    "collapsed": true
   },
   "outputs": [],
   "source": []
  },
  {
   "cell_type": "code",
   "execution_count": 81,
   "metadata": {
    "collapsed": false
   },
   "outputs": [
    {
     "data": {
      "text/plain": [
       "dtype('float32')"
      ]
     },
     "execution_count": 81,
     "metadata": {},
     "output_type": "execute_result"
    }
   ],
   "source": [
    "x = np.float32(1.0)\n",
    "x.dtype"
   ]
  },
  {
   "cell_type": "code",
   "execution_count": 88,
   "metadata": {
    "collapsed": false
   },
   "outputs": [
    {
     "name": "stdout",
     "output_type": "stream",
     "text": [
      "-35 int8\n"
     ]
    }
   ],
   "source": [
    "y = np.int8(221.9)\n",
    "print y, y.dtype"
   ]
  },
  {
   "cell_type": "code",
   "execution_count": 89,
   "metadata": {
    "collapsed": false
   },
   "outputs": [
    {
     "data": {
      "text/plain": [
       "array([ 1.,  2.,  3.], dtype=float32)"
      ]
     },
     "execution_count": 89,
     "metadata": {},
     "output_type": "execute_result"
    }
   ],
   "source": [
    "np.array([1, 2, 3], dtype='f')"
   ]
  },
  {
   "cell_type": "code",
   "execution_count": 91,
   "metadata": {
    "collapsed": false
   },
   "outputs": [
    {
     "data": {
      "text/plain": [
       "array([[ 0.,  0.,  0.],\n",
       "       [ 0.,  0.,  0.]])"
      ]
     },
     "execution_count": 91,
     "metadata": {},
     "output_type": "execute_result"
    }
   ],
   "source": [
    "np.zeros((2, 3))"
   ]
  },
  {
   "cell_type": "code",
   "execution_count": 92,
   "metadata": {
    "collapsed": false
   },
   "outputs": [
    {
     "data": {
      "text/plain": [
       "array([[ 1.,  1.,  1.],\n",
       "       [ 1.,  1.,  1.]])"
      ]
     },
     "execution_count": 92,
     "metadata": {},
     "output_type": "execute_result"
    }
   ],
   "source": [
    "np.ones((2,3))"
   ]
  },
  {
   "cell_type": "code",
   "execution_count": 94,
   "metadata": {
    "collapsed": false
   },
   "outputs": [
    {
     "data": {
      "text/plain": [
       "array([ 1. ,  1.6,  2.2,  2.8,  3.4,  4. ])"
      ]
     },
     "execution_count": 94,
     "metadata": {},
     "output_type": "execute_result"
    }
   ],
   "source": [
    "np.linspace(1,4,6)"
   ]
  },
  {
   "cell_type": "code",
   "execution_count": 96,
   "metadata": {
    "collapsed": false
   },
   "outputs": [
    {
     "data": {
      "text/plain": [
       "array([[[0, 0, 0],\n",
       "        [1, 1, 1],\n",
       "        [2, 2, 2]],\n",
       "\n",
       "       [[0, 1, 2],\n",
       "        [0, 1, 2],\n",
       "        [0, 1, 2]]])"
      ]
     },
     "execution_count": 96,
     "metadata": {},
     "output_type": "execute_result"
    }
   ],
   "source": [
    "np.indices((3,3))"
   ]
  },
  {
   "cell_type": "code",
   "execution_count": 99,
   "metadata": {
    "collapsed": false
   },
   "outputs": [],
   "source": [
    "from StringIO import StringIO"
   ]
  },
  {
   "cell_type": "code",
   "execution_count": 103,
   "metadata": {
    "collapsed": false
   },
   "outputs": [
    {
     "data": {
      "text/plain": [
       "array([[1, 2, 3],\n",
       "       [4, 5, 6]])"
      ]
     },
     "execution_count": 103,
     "metadata": {},
     "output_type": "execute_result"
    }
   ],
   "source": [
    "data = \"1, 2 , 3\\n4, 5, 6\"\n",
    "np.genfromtxt(StringIO(data), delimiter=',',dtype='i4')"
   ]
  },
  {
   "cell_type": "code",
   "execution_count": 117,
   "metadata": {
    "collapsed": false
   },
   "outputs": [
    {
     "data": {
      "text/plain": [
       "array([(1, 2L), (3, 4L)], \n",
       "      dtype=[('a', '<i4'), ('c', '<i8')])"
      ]
     },
     "execution_count": 117,
     "metadata": {},
     "output_type": "execute_result"
    }
   ],
   "source": [
    "data = \"1, abc  , 2\\n 3, xxx, 4\"\n",
    "np.genfromtxt(StringIO(data), dtype='i4,S3,i8', delimiter=',', names=('a,b,c'),autostrip=True, usecols=('a', 'c'))"
   ]
  },
  {
   "cell_type": "code",
   "execution_count": 118,
   "metadata": {
    "collapsed": true
   },
   "outputs": [],
   "source": [
    "indices = (1,1,1,slice(0,2))"
   ]
  },
  {
   "cell_type": "code",
   "execution_count": 119,
   "metadata": {
    "collapsed": false
   },
   "outputs": [
    {
     "data": {
      "text/plain": [
       "(1, 1, 1, slice(0, 2, None))"
      ]
     },
     "execution_count": 119,
     "metadata": {},
     "output_type": "execute_result"
    }
   ],
   "source": [
    "indices"
   ]
  },
  {
   "cell_type": "code",
   "execution_count": 120,
   "metadata": {
    "collapsed": false
   },
   "outputs": [
    {
     "ename": "SyntaxError",
     "evalue": "invalid syntax (<ipython-input-120-1a39573cbf36>, line 1)",
     "output_type": "error",
     "traceback": [
      "\u001b[1;36m  File \u001b[1;32m\"<ipython-input-120-1a39573cbf36>\"\u001b[1;36m, line \u001b[1;32m1\u001b[0m\n\u001b[1;33m    (1,1,1,0:2)\u001b[0m\n\u001b[1;37m            ^\u001b[0m\n\u001b[1;31mSyntaxError\u001b[0m\u001b[1;31m:\u001b[0m invalid syntax\n"
     ]
    }
   ],
   "source": [
    "(1,1,1,0:2)"
   ]
  },
  {
   "cell_type": "markdown",
   "metadata": {},
   "source": [
    "[dtype](http://docs.scipy.org/doc/numpy/user/basics.rec.html)"
   ]
  },
  {
   "cell_type": "code",
   "execution_count": 127,
   "metadata": {
    "collapsed": false
   },
   "outputs": [
    {
     "data": {
      "text/plain": [
       "array([([0, 0, 0], 0.0, [[0.0, 0.0, 0.0], [0.0, 0.0, 0.0]]),\n",
       "       ([0, 0, 0], 0.0, [[0.0, 0.0, 0.0], [0.0, 0.0, 0.0]]),\n",
       "       ([0, 0, 0], 0.0, [[0.0, 0.0, 0.0], [0.0, 0.0, 0.0]])], \n",
       "      dtype=[('f0', 'i1', (3,)), ('f1', '<f4'), ('f2', '<f8', (2, 3))])"
      ]
     },
     "execution_count": 127,
     "metadata": {},
     "output_type": "execute_result"
    }
   ],
   "source": [
    "# String argument \n",
    "x = np.zeros(3, dtype='3int8, float32, (2,3)float64')\n",
    "x"
   ]
  },
  {
   "cell_type": "code",
   "execution_count": 130,
   "metadata": {
    "collapsed": false
   },
   "outputs": [
    {
     "data": {
      "text/plain": [
       "array([0, 0, 0])"
      ]
     },
     "execution_count": 130,
     "metadata": {},
     "output_type": "execute_result"
    }
   ],
   "source": [
    "x = np.zeros(3, dtype=('i4',[('r','u1'), ('g','u1'), ('b','u1'), ('a','u1')]))\n",
    "x"
   ]
  },
  {
   "cell_type": "code",
   "execution_count": 129,
   "metadata": {
    "collapsed": false
   },
   "outputs": [
    {
     "data": {
      "text/plain": [
       "array([(0.0, 0.0, [[0.0, 0.0], [0.0, 0.0]]),\n",
       "       (0.0, 0.0, [[0.0, 0.0], [0.0, 0.0]]),\n",
       "       (0.0, 0.0, [[0.0, 0.0], [0.0, 0.0]])], \n",
       "      dtype=[('x', '<f4'), ('y', '<f4'), ('value', '<f4', (2, 2))])"
      ]
     },
     "execution_count": 129,
     "metadata": {},
     "output_type": "execute_result"
    }
   ],
   "source": [
    "# List argument\n",
    "x = np.zeros(3, dtype=[('x','f4'),('y',np.float32),('value','f4',(2,2))])\n",
    "x"
   ]
  },
  {
   "cell_type": "code",
   "execution_count": 131,
   "metadata": {
    "collapsed": false
   },
   "outputs": [
    {
     "data": {
      "text/plain": [
       "array([(0, 0.0), (0, 0.0), (0, 0.0)], \n",
       "      dtype=[('col1', '<i4'), ('col2', '<f4')])"
      ]
     },
     "execution_count": 131,
     "metadata": {},
     "output_type": "execute_result"
    }
   ],
   "source": [
    "# Dictionary argument\n",
    "x = np.zeros(3, dtype={'names': ['col1', 'col2'], 'formats': ['i4', 'f4']})\n",
    "x"
   ]
  },
  {
   "cell_type": "code",
   "execution_count": 132,
   "metadata": {
    "collapsed": false
   },
   "outputs": [
    {
     "data": {
      "text/plain": [
       "('col1', 'col2')"
      ]
     },
     "execution_count": 132,
     "metadata": {},
     "output_type": "execute_result"
    }
   ],
   "source": [
    "x.dtype.names"
   ]
  },
  {
   "cell_type": "code",
   "execution_count": 135,
   "metadata": {
    "collapsed": false
   },
   "outputs": [
    {
     "data": {
      "text/plain": [
       "array([(0, 0.0), (0, 0.0), (0, 0.0)], \n",
       "      dtype=[('x', '<i4'), ('y', '<f4')])"
      ]
     },
     "execution_count": 135,
     "metadata": {},
     "output_type": "execute_result"
    }
   ],
   "source": [
    "x.dtype.names = ('x', 'y')\n",
    "x"
   ]
  },
  {
   "cell_type": "markdown",
   "metadata": {},
   "source": [
    "#### Accessing and modifying field names"
   ]
  },
  {
   "cell_type": "code",
   "execution_count": 137,
   "metadata": {
    "collapsed": false
   },
   "outputs": [
    {
     "data": {
      "text/plain": [
       "array([(1.5, 2.5, [[1.0, 2.0], [1.0, 2.0]]),\n",
       "       (3.0, 4.0, [[4.0, 5.0], [4.0, 5.0]]),\n",
       "       (1.0, 3.0, [[2.0, 6.0], [2.0, 6.0]])], \n",
       "      dtype=[('x', '<f4'), ('y', '<f4'), ('value', '<f4', (2, 2))])"
      ]
     },
     "execution_count": 137,
     "metadata": {},
     "output_type": "execute_result"
    }
   ],
   "source": [
    "x = np.array([(1.5,2.5,(1.0,2.0)),(3.,4.,(4.,5.)),(1.,3.,(2.,6.))],\n",
    "              dtype=[('x','f4'), ('y',np.float32), ('value','f4',(2,2))])\n",
    "x"
   ]
  },
  {
   "cell_type": "code",
   "execution_count": 138,
   "metadata": {
    "collapsed": false
   },
   "outputs": [
    {
     "data": {
      "text/plain": [
       "array([ 1.5,  3. ,  1. ], dtype=float32)"
      ]
     },
     "execution_count": 138,
     "metadata": {},
     "output_type": "execute_result"
    }
   ],
   "source": [
    "x['x']"
   ]
  },
  {
   "cell_type": "code",
   "execution_count": 139,
   "metadata": {
    "collapsed": false
   },
   "outputs": [
    {
     "data": {
      "text/plain": [
       "array([(1.5, [[1.0, 2.0], [1.0, 2.0]]), (3.0, [[4.0, 5.0], [4.0, 5.0]]),\n",
       "       (1.0, [[2.0, 6.0], [2.0, 6.0]])], \n",
       "      dtype=[('x', '<f4'), ('value', '<f4', (2, 2))])"
      ]
     },
     "execution_count": 139,
     "metadata": {},
     "output_type": "execute_result"
    }
   ],
   "source": [
    "x[['x','value']]"
   ]
  },
  {
   "cell_type": "code",
   "execution_count": null,
   "metadata": {
    "collapsed": true
   },
   "outputs": [],
   "source": []
  },
  {
   "cell_type": "code",
   "execution_count": 2,
   "metadata": {
    "collapsed": false
   },
   "outputs": [
    {
     "data": {
      "text/plain": [
       "array([(0.0, 0.0), (1.0, 0.0), (2.0, 0.0), (3.0, 0.0), (4.0, 0.0)], \n",
       "      dtype=[('var1', '<f8'), ('var2', '<f8')])"
      ]
     },
     "execution_count": 2,
     "metadata": {},
     "output_type": "execute_result"
    }
   ],
   "source": [
    "arr = np.zeros((5,), dtype=[('var1','f8'),('var2','f8')])\n",
    "arr['var1'] = np.arange(5)\n",
    "arr"
   ]
  },
  {
   "cell_type": "code",
   "execution_count": 142,
   "metadata": {
    "collapsed": true
   },
   "outputs": [],
   "source": [
    "arr[0] = (10, 20)"
   ]
  },
  {
   "cell_type": "code",
   "execution_count": 143,
   "metadata": {
    "collapsed": false
   },
   "outputs": [
    {
     "data": {
      "text/plain": [
       "array([(10.0, 20.0), (1.0, 0.0), (2.0, 0.0), (3.0, 0.0), (4.0, 0.0)], \n",
       "      dtype=[('var1', '<f8'), ('var2', '<f8')])"
      ]
     },
     "execution_count": 143,
     "metadata": {},
     "output_type": "execute_result"
    }
   ],
   "source": [
    "arr"
   ]
  },
  {
   "cell_type": "code",
   "execution_count": 1,
   "metadata": {
    "collapsed": true
   },
   "outputs": [],
   "source": [
    "import numpy as np"
   ]
  },
  {
   "cell_type": "code",
   "execution_count": 3,
   "metadata": {
    "collapsed": false
   },
   "outputs": [
    {
     "data": {
      "text/plain": [
       "  C_CONTIGUOUS : True\n",
       "  F_CONTIGUOUS : True\n",
       "  OWNDATA : True\n",
       "  WRITEABLE : True\n",
       "  ALIGNED : True\n",
       "  UPDATEIFCOPY : False"
      ]
     },
     "execution_count": 3,
     "metadata": {},
     "output_type": "execute_result"
    }
   ],
   "source": [
    "arr.flags"
   ]
  },
  {
   "cell_type": "code",
   "execution_count": 4,
   "metadata": {
    "collapsed": false
   },
   "outputs": [
    {
     "data": {
      "text/plain": [
       "(5L,)"
      ]
     },
     "execution_count": 4,
     "metadata": {},
     "output_type": "execute_result"
    }
   ],
   "source": [
    "arr.shape"
   ]
  },
  {
   "cell_type": "code",
   "execution_count": 5,
   "metadata": {
    "collapsed": false
   },
   "outputs": [
    {
     "data": {
      "text/plain": [
       "(16L,)"
      ]
     },
     "execution_count": 5,
     "metadata": {},
     "output_type": "execute_result"
    }
   ],
   "source": [
    "arr.strides"
   ]
  },
  {
   "cell_type": "code",
   "execution_count": 6,
   "metadata": {
    "collapsed": false
   },
   "outputs": [
    {
     "data": {
      "text/plain": [
       "1"
      ]
     },
     "execution_count": 6,
     "metadata": {},
     "output_type": "execute_result"
    }
   ],
   "source": [
    "arr.ndim"
   ]
  },
  {
   "cell_type": "code",
   "execution_count": 7,
   "metadata": {
    "collapsed": false
   },
   "outputs": [
    {
     "data": {
      "text/plain": [
       "5"
      ]
     },
     "execution_count": 7,
     "metadata": {},
     "output_type": "execute_result"
    }
   ],
   "source": [
    "arr.size"
   ]
  },
  {
   "cell_type": "code",
   "execution_count": 8,
   "metadata": {
    "collapsed": false
   },
   "outputs": [
    {
     "data": {
      "text/plain": [
       "80"
      ]
     },
     "execution_count": 8,
     "metadata": {},
     "output_type": "execute_result"
    }
   ],
   "source": [
    "arr.nbytes"
   ]
  },
  {
   "cell_type": "code",
   "execution_count": 9,
   "metadata": {
    "collapsed": true
   },
   "outputs": [],
   "source": [
    "arr.base"
   ]
  },
  {
   "cell_type": "code",
   "execution_count": 10,
   "metadata": {
    "collapsed": false
   },
   "outputs": [
    {
     "data": {
      "text/plain": [
       "<numpy.core._internal._ctypes at 0x401fba8>"
      ]
     },
     "execution_count": 10,
     "metadata": {},
     "output_type": "execute_result"
    }
   ],
   "source": [
    "arr.ctypes"
   ]
  },
  {
   "cell_type": "code",
   "execution_count": 11,
   "metadata": {
    "collapsed": false
   },
   "outputs": [
    {
     "data": {
      "text/plain": [
       "array([(0.0, 0.0), (1.0, 0.0), (2.0, 0.0), (3.0, 0.0), (4.0, 0.0)], \n",
       "      dtype=[('var1', '<f8'), ('var2', '<f8')])"
      ]
     },
     "execution_count": 11,
     "metadata": {},
     "output_type": "execute_result"
    }
   ],
   "source": [
    "arr.T"
   ]
  },
  {
   "cell_type": "code",
   "execution_count": null,
   "metadata": {
    "collapsed": true
   },
   "outputs": [],
   "source": []
  },
  {
   "cell_type": "code",
   "execution_count": 12,
   "metadata": {
    "collapsed": false
   },
   "outputs": [
    {
     "data": {
      "text/plain": [
       "4"
      ]
     },
     "execution_count": 12,
     "metadata": {},
     "output_type": "execute_result"
    }
   ],
   "source": [
    "dt = np.dtype('i4')\n",
    "dt.itemsize"
   ]
  },
  {
   "cell_type": "code",
   "execution_count": 13,
   "metadata": {
    "collapsed": false
   },
   "outputs": [
    {
     "data": {
      "text/plain": [
       "'int32'"
      ]
     },
     "execution_count": 13,
     "metadata": {},
     "output_type": "execute_result"
    }
   ],
   "source": [
    "dt.name"
   ]
  },
  {
   "cell_type": "code",
   "execution_count": 15,
   "metadata": {
    "collapsed": false
   },
   "outputs": [
    {
     "data": {
      "text/plain": [
       "'string32'"
      ]
     },
     "execution_count": 15,
     "metadata": {},
     "output_type": "execute_result"
    }
   ],
   "source": [
    "np.dtype('S4').name"
   ]
  },
  {
   "cell_type": "code",
   "execution_count": 16,
   "metadata": {
    "collapsed": false
   },
   "outputs": [
    {
     "data": {
      "text/plain": [
       "4"
      ]
     },
     "execution_count": 16,
     "metadata": {},
     "output_type": "execute_result"
    }
   ],
   "source": [
    "np.dtype('S4').itemsize"
   ]
  },
  {
   "cell_type": "code",
   "execution_count": 19,
   "metadata": {
    "collapsed": false
   },
   "outputs": [
    {
     "data": {
      "text/plain": [
       "'float32'"
      ]
     },
     "execution_count": 19,
     "metadata": {},
     "output_type": "execute_result"
    }
   ],
   "source": [
    "np.dtype('f4').name"
   ]
  },
  {
   "cell_type": "code",
   "execution_count": 20,
   "metadata": {
    "collapsed": false
   },
   "outputs": [
    {
     "data": {
      "text/plain": [
       "{0: numpy.bool_,\n",
       " 1: numpy.int8,\n",
       " 2: numpy.uint8,\n",
       " 3: numpy.int16,\n",
       " 4: numpy.uint16,\n",
       " 5: numpy.int32,\n",
       " 6: numpy.uint32,\n",
       " 7: numpy.int32,\n",
       " 8: numpy.uint32,\n",
       " 9: numpy.int64,\n",
       " 10: numpy.uint64,\n",
       " 11: numpy.float32,\n",
       " 12: numpy.float64,\n",
       " 13: numpy.float64,\n",
       " 14: numpy.complex64,\n",
       " 15: numpy.complex128,\n",
       " 16: numpy.complex128,\n",
       " 17: numpy.object_,\n",
       " 18: numpy.string_,\n",
       " 19: numpy.unicode_,\n",
       " 20: numpy.void,\n",
       " 21: numpy.datetime64,\n",
       " 22: numpy.timedelta64,\n",
       " 23: numpy.float16,\n",
       " '?': numpy.bool_,\n",
       " 'B': numpy.uint8,\n",
       " 'Bool': numpy.bool_,\n",
       " 'Complex32': numpy.complex64,\n",
       " 'Complex64': numpy.complex128,\n",
       " 'D': numpy.complex128,\n",
       " 'Datetime64': numpy.datetime64,\n",
       " 'F': numpy.complex64,\n",
       " 'Float16': numpy.float16,\n",
       " 'Float32': numpy.float32,\n",
       " 'Float64': numpy.float64,\n",
       " 'G': numpy.complex128,\n",
       " 'H': numpy.uint16,\n",
       " 'I': numpy.uint32,\n",
       " 'Int16': numpy.int16,\n",
       " 'Int32': numpy.int32,\n",
       " 'Int64': numpy.int64,\n",
       " 'Int8': numpy.int8,\n",
       " 'L': numpy.uint32,\n",
       " 'M': numpy.datetime64,\n",
       " 'M8': numpy.datetime64,\n",
       " 'O': numpy.object_,\n",
       " 'O8': numpy.object_,\n",
       " 'Object0': numpy.object_,\n",
       " 'P': numpy.uint64,\n",
       " 'Q': numpy.uint64,\n",
       " 'S': numpy.string_,\n",
       " 'String0': numpy.string_,\n",
       " 'Timedelta64': numpy.timedelta64,\n",
       " 'U': numpy.unicode_,\n",
       " 'UInt16': numpy.uint16,\n",
       " 'UInt32': numpy.uint32,\n",
       " 'UInt64': numpy.uint64,\n",
       " 'UInt8': numpy.uint8,\n",
       " 'Unicode0': numpy.unicode_,\n",
       " 'V': numpy.void,\n",
       " 'Void0': numpy.void,\n",
       " 'a': numpy.string_,\n",
       " 'b': numpy.int8,\n",
       " 'b1': numpy.bool_,\n",
       " 'bool': numpy.bool_,\n",
       " 'bool8': numpy.bool_,\n",
       " 'bool_': numpy.bool_,\n",
       " 'byte': numpy.int8,\n",
       " 'bytes_': numpy.string_,\n",
       " 'c16': numpy.complex128,\n",
       " 'c8': numpy.complex64,\n",
       " 'cdouble': numpy.complex128,\n",
       " 'cfloat': numpy.complex128,\n",
       " 'clongdouble': numpy.complex128,\n",
       " 'clongfloat': numpy.complex128,\n",
       " 'complex': numpy.complex128,\n",
       " 'complex128': numpy.complex128,\n",
       " 'complex64': numpy.complex64,\n",
       " 'complex_': numpy.complex128,\n",
       " 'csingle': numpy.complex64,\n",
       " 'd': numpy.float64,\n",
       " 'datetime64': numpy.datetime64,\n",
       " 'double': numpy.float64,\n",
       " 'e': numpy.float16,\n",
       " 'f': numpy.float32,\n",
       " 'f2': numpy.float16,\n",
       " 'f4': numpy.float32,\n",
       " 'f8': numpy.float64,\n",
       " 'float': numpy.float64,\n",
       " 'float16': numpy.float16,\n",
       " 'float32': numpy.float32,\n",
       " 'float64': numpy.float64,\n",
       " 'float_': numpy.float64,\n",
       " 'g': numpy.float64,\n",
       " 'h': numpy.int16,\n",
       " 'half': numpy.float16,\n",
       " 'i': numpy.int32,\n",
       " 'i1': numpy.int8,\n",
       " 'i2': numpy.int16,\n",
       " 'i4': numpy.int32,\n",
       " 'i8': numpy.int64,\n",
       " 'int': numpy.int32,\n",
       " 'int0': numpy.int64,\n",
       " 'int16': numpy.int16,\n",
       " 'int32': numpy.int32,\n",
       " 'int64': numpy.int64,\n",
       " 'int8': numpy.int8,\n",
       " 'int_': numpy.int32,\n",
       " 'intc': numpy.int32,\n",
       " 'intp': numpy.int64,\n",
       " 'l': numpy.int32,\n",
       " 'longcomplex': numpy.complex128,\n",
       " 'longdouble': numpy.float64,\n",
       " 'longfloat': numpy.float64,\n",
       " 'longlong': numpy.int64,\n",
       " 'm': numpy.timedelta64,\n",
       " 'm8': numpy.timedelta64,\n",
       " 'object': numpy.object_,\n",
       " 'object0': numpy.object_,\n",
       " 'object_': numpy.object_,\n",
       " 'p': numpy.int64,\n",
       " 'q': numpy.int64,\n",
       " 'short': numpy.int16,\n",
       " 'single': numpy.float32,\n",
       " 'singlecomplex': numpy.complex64,\n",
       " 'str': numpy.string_,\n",
       " 'str_': numpy.string_,\n",
       " 'string': numpy.string_,\n",
       " 'string0': numpy.string_,\n",
       " 'string_': numpy.string_,\n",
       " 'timedelta64': numpy.timedelta64,\n",
       " 'u1': numpy.uint8,\n",
       " 'u2': numpy.uint16,\n",
       " 'u4': numpy.uint32,\n",
       " 'u8': numpy.uint64,\n",
       " 'ubyte': numpy.uint8,\n",
       " 'uint': numpy.uint32,\n",
       " 'uint0': numpy.uint64,\n",
       " 'uint16': numpy.uint16,\n",
       " 'uint32': numpy.uint32,\n",
       " 'uint64': numpy.uint64,\n",
       " 'uint8': numpy.uint8,\n",
       " 'uintc': numpy.uint32,\n",
       " 'uintp': numpy.uint64,\n",
       " 'ulonglong': numpy.uint64,\n",
       " 'unicode': numpy.unicode_,\n",
       " 'unicode0': numpy.unicode_,\n",
       " 'unicode_': numpy.unicode_,\n",
       " 'ushort': numpy.uint16,\n",
       " 'void': numpy.void,\n",
       " 'void0': numpy.void}"
      ]
     },
     "execution_count": 20,
     "metadata": {},
     "output_type": "execute_result"
    }
   ],
   "source": [
    "np.typeDict"
   ]
  },
  {
   "cell_type": "code",
   "execution_count": null,
   "metadata": {
    "collapsed": true
   },
   "outputs": [],
   "source": []
  },
  {
   "cell_type": "code",
   "execution_count": 19,
   "metadata": {
    "collapsed": false
   },
   "outputs": [
    {
     "data": {
      "text/plain": [
       "'float32'"
      ]
     },
     "execution_count": 19,
     "metadata": {},
     "output_type": "execute_result"
    }
   ],
   "source": [
    "np.dtype('f4').name"
   ]
  },
  {
   "cell_type": "code",
   "execution_count": 22,
   "metadata": {
    "collapsed": false
   },
   "outputs": [
    {
     "data": {
      "text/plain": [
       "8"
      ]
     },
     "execution_count": 22,
     "metadata": {},
     "output_type": "execute_result"
    }
   ],
   "source": [
    "np.dtype(np.float64).itemsize"
   ]
  },
  {
   "cell_type": "code",
   "execution_count": 23,
   "metadata": {
    "collapsed": false
   },
   "outputs": [
    {
     "data": {
      "text/plain": [
       "dtype('float64')"
      ]
     },
     "execution_count": 23,
     "metadata": {},
     "output_type": "execute_result"
    }
   ],
   "source": [
    "np.dtype(float)"
   ]
  },
  {
   "cell_type": "code",
   "execution_count": 24,
   "metadata": {
    "collapsed": false
   },
   "outputs": [
    {
     "data": {
      "text/plain": [
       "dtype('int32')"
      ]
     },
     "execution_count": 24,
     "metadata": {},
     "output_type": "execute_result"
    }
   ],
   "source": [
    "np.dtype(int)"
   ]
  },
  {
   "cell_type": "code",
   "execution_count": 25,
   "metadata": {
    "collapsed": false
   },
   "outputs": [
    {
     "data": {
      "text/plain": [
       "dtype('O')"
      ]
     },
     "execution_count": 25,
     "metadata": {},
     "output_type": "execute_result"
    }
   ],
   "source": [
    "np.dtype(object)"
   ]
  },
  {
   "cell_type": "code",
   "execution_count": 27,
   "metadata": {
    "collapsed": false
   },
   "outputs": [
    {
     "data": {
      "text/plain": [
       "'string'"
      ]
     },
     "execution_count": 27,
     "metadata": {},
     "output_type": "execute_result"
    }
   ],
   "source": [
    "np.dtype(str).name"
   ]
  },
  {
   "cell_type": "code",
   "execution_count": 29,
   "metadata": {
    "collapsed": false
   },
   "outputs": [
    {
     "data": {
      "text/plain": [
       "'string'"
      ]
     },
     "execution_count": 29,
     "metadata": {},
     "output_type": "execute_result"
    }
   ],
   "source": [
    "np.dtype('S').name"
   ]
  },
  {
   "cell_type": "code",
   "execution_count": 31,
   "metadata": {
    "collapsed": false
   },
   "outputs": [
    {
     "data": {
      "text/plain": [
       "dtype('int8')"
      ]
     },
     "execution_count": 31,
     "metadata": {},
     "output_type": "execute_result"
    }
   ],
   "source": [
    "np.dtype('b')"
   ]
  },
  {
   "cell_type": "code",
   "execution_count": 32,
   "metadata": {
    "collapsed": false
   },
   "outputs": [
    {
     "data": {
      "text/plain": [
       "dtype('int32')"
      ]
     },
     "execution_count": 32,
     "metadata": {},
     "output_type": "execute_result"
    }
   ],
   "source": [
    "np.dtype('i4')"
   ]
  },
  {
   "cell_type": "code",
   "execution_count": 33,
   "metadata": {
    "collapsed": false
   },
   "outputs": [
    {
     "data": {
      "text/plain": [
       "dtype('S25')"
      ]
     },
     "execution_count": 33,
     "metadata": {},
     "output_type": "execute_result"
    }
   ],
   "source": [
    "np.dtype('S25')"
   ]
  },
  {
   "cell_type": "code",
   "execution_count": 34,
   "metadata": {
    "collapsed": false
   },
   "outputs": [
    {
     "data": {
      "text/plain": [
       "dtype('S25')"
      ]
     },
     "execution_count": 34,
     "metadata": {},
     "output_type": "execute_result"
    }
   ],
   "source": [
    "np.dtype('a25')"
   ]
  },
  {
   "cell_type": "code",
   "execution_count": 35,
   "metadata": {
    "collapsed": false
   },
   "outputs": [
    {
     "data": {
      "text/plain": [
       "dtype(([('f0', '<i4'), ('f1', '<f8', (2, 3)), ('f2', '<f4')], (2, 3)))"
      ]
     },
     "execution_count": 35,
     "metadata": {},
     "output_type": "execute_result"
    }
   ],
   "source": [
    "np.dtype(('i4, (2,3)f8, f4', (2,3)))"
   ]
  },
  {
   "cell_type": "code",
   "execution_count": null,
   "metadata": {
    "collapsed": true
   },
   "outputs": [],
   "source": []
  },
  {
   "cell_type": "code",
   "execution_count": 37,
   "metadata": {
    "collapsed": false
   },
   "outputs": [
    {
     "data": {
      "text/plain": [
       "array([[0, 1, 2],\n",
       "       [3, 4, 5]])"
      ]
     },
     "execution_count": 37,
     "metadata": {},
     "output_type": "execute_result"
    }
   ],
   "source": [
    "a = np.arange(6).reshape(2,3)\n",
    "a"
   ]
  },
  {
   "cell_type": "code",
   "execution_count": 43,
   "metadata": {
    "collapsed": false
   },
   "outputs": [
    {
     "name": "stdout",
     "output_type": "stream",
     "text": [
      "0 1 2 3 4 5\n"
     ]
    }
   ],
   "source": [
    "for x in np.nditer(a):\n",
    "    print x,"
   ]
  },
  {
   "cell_type": "code",
   "execution_count": 44,
   "metadata": {
    "collapsed": false
   },
   "outputs": [
    {
     "name": "stdout",
     "output_type": "stream",
     "text": [
      "0 1 2 3 4 5\n"
     ]
    }
   ],
   "source": [
    "for x in np.nditer(a.T):\n",
    "    print x,"
   ]
  },
  {
   "cell_type": "code",
   "execution_count": 45,
   "metadata": {
    "collapsed": false
   },
   "outputs": [
    {
     "data": {
      "text/plain": [
       "array([[0, 3],\n",
       "       [1, 4],\n",
       "       [2, 5]])"
      ]
     },
     "execution_count": 45,
     "metadata": {},
     "output_type": "execute_result"
    }
   ],
   "source": [
    "a.T"
   ]
  },
  {
   "cell_type": "code",
   "execution_count": 50,
   "metadata": {
    "collapsed": false
   },
   "outputs": [],
   "source": [
    "for x in np.nditer(a, op_flags=['readwrite']):\n",
    "    x[...] = 2 * x"
   ]
  },
  {
   "cell_type": "code",
   "execution_count": null,
   "metadata": {
    "collapsed": true
   },
   "outputs": [],
   "source": []
  },
  {
   "cell_type": "code",
   "execution_count": 51,
   "metadata": {
    "collapsed": false
   },
   "outputs": [
    {
     "data": {
      "text/plain": [
       "array([[ 0,  4,  8],\n",
       "       [12, 16, 20]])"
      ]
     },
     "execution_count": 51,
     "metadata": {},
     "output_type": "execute_result"
    }
   ],
   "source": [
    "a"
   ]
  },
  {
   "cell_type": "code",
   "execution_count": 52,
   "metadata": {
    "collapsed": false
   },
   "outputs": [
    {
     "data": {
      "text/plain": [
       "numpy.datetime64('2005-02-25')"
      ]
     },
     "execution_count": 52,
     "metadata": {},
     "output_type": "execute_result"
    }
   ],
   "source": [
    "np.datetime64('2005-02-25')"
   ]
  },
  {
   "cell_type": "code",
   "execution_count": 55,
   "metadata": {
    "collapsed": false
   },
   "outputs": [
    {
     "data": {
      "text/plain": [
       "numpy.datetime64('2005-02')"
      ]
     },
     "execution_count": 55,
     "metadata": {},
     "output_type": "execute_result"
    }
   ],
   "source": [
    " np.datetime64('2005-02')"
   ]
  },
  {
   "cell_type": "code",
   "execution_count": 56,
   "metadata": {
    "collapsed": false
   },
   "outputs": [
    {
     "data": {
      "text/plain": [
       "numpy.datetime64('2005-02-01')"
      ]
     },
     "execution_count": 56,
     "metadata": {},
     "output_type": "execute_result"
    }
   ],
   "source": [
    " np.datetime64('2005-02', 'D')"
   ]
  },
  {
   "cell_type": "code",
   "execution_count": 57,
   "metadata": {
    "collapsed": false
   },
   "outputs": [
    {
     "data": {
      "text/plain": [
       "numpy.datetime64('2005-02-25T03:30+0800')"
      ]
     },
     "execution_count": 57,
     "metadata": {},
     "output_type": "execute_result"
    }
   ],
   "source": [
    " np.datetime64('2005-02-25T03:30')"
   ]
  },
  {
   "cell_type": "code",
   "execution_count": 61,
   "metadata": {
    "collapsed": false
   },
   "outputs": [
    {
     "data": {
      "text/plain": [
       "array(['2005-02-01', '2005-02-02', '2005-02-03', '2005-02-04',\n",
       "       '2005-02-05', '2005-02-06', '2005-02-07', '2005-02-08',\n",
       "       '2005-02-09', '2005-02-10', '2005-02-11', '2005-02-12',\n",
       "       '2005-02-13', '2005-02-14', '2005-02-15', '2005-02-16',\n",
       "       '2005-02-17', '2005-02-18', '2005-02-19', '2005-02-20',\n",
       "       '2005-02-21', '2005-02-22', '2005-02-23', '2005-02-24',\n",
       "       '2005-02-25', '2005-02-26', '2005-02-27', '2005-02-28'], dtype='datetime64[D]')"
      ]
     },
     "execution_count": 61,
     "metadata": {},
     "output_type": "execute_result"
    }
   ],
   "source": [
    "np.arange('2005-02', '2005-03', dtype='datetime64[D]')"
   ]
  },
  {
   "cell_type": "code",
   "execution_count": 62,
   "metadata": {
    "collapsed": false
   },
   "outputs": [
    {
     "data": {
      "text/plain": [
       "numpy.timedelta64(366,'D')"
      ]
     },
     "execution_count": 62,
     "metadata": {},
     "output_type": "execute_result"
    }
   ],
   "source": [
    " np.datetime64('2009-01-01') - np.datetime64('2008-01-01')"
   ]
  },
  {
   "cell_type": "code",
   "execution_count": 72,
   "metadata": {
    "collapsed": false
   },
   "outputs": [
    {
     "data": {
      "text/plain": [
       "numpy.datetime64('2011-05-16T00:00+0800')"
      ]
     },
     "execution_count": 72,
     "metadata": {},
     "output_type": "execute_result"
    }
   ],
   "source": [
    "a = np.datetime64('2011-06-15T00:00') - np.timedelta64(30, 'D')\n",
    "a"
   ]
  },
  {
   "cell_type": "code",
   "execution_count": null,
   "metadata": {
    "collapsed": true
   },
   "outputs": [],
   "source": []
  },
  {
   "cell_type": "code",
   "execution_count": 71,
   "metadata": {
    "collapsed": false
   },
   "outputs": [
    {
     "data": {
      "text/plain": [
       "numpy.datetime64('2011-06-15T00:00+0800')"
      ]
     },
     "execution_count": 71,
     "metadata": {},
     "output_type": "execute_result"
    }
   ],
   "source": [
    "b = np.datetime64('2011-06-15T00:00')\n",
    "b"
   ]
  },
  {
   "cell_type": "code",
   "execution_count": null,
   "metadata": {
    "collapsed": true
   },
   "outputs": [],
   "source": []
  },
  {
   "cell_type": "code",
   "execution_count": 75,
   "metadata": {
    "collapsed": false
   },
   "outputs": [
    {
     "ename": "TypeError",
     "evalue": "Cannot cast NumPy timedelta64 scalar from metadata [m] to [D] according to the rule 'same_kind'",
     "output_type": "error",
     "traceback": [
      "\u001b[1;31m---------------------------------------------------------------------------\u001b[0m",
      "\u001b[1;31mTypeError\u001b[0m                                 Traceback (most recent call last)",
      "\u001b[1;32m<ipython-input-75-80cad42e1ce2>\u001b[0m in \u001b[0;36m<module>\u001b[1;34m()\u001b[0m\n\u001b[1;32m----> 1\u001b[1;33m \u001b[0mnp\u001b[0m\u001b[1;33m.\u001b[0m\u001b[0marange\u001b[0m\u001b[1;33m(\u001b[0m\u001b[0mb\u001b[0m\u001b[1;33m,\u001b[0m \u001b[0ma\u001b[0m\u001b[1;33m,\u001b[0m \u001b[0mdtype\u001b[0m\u001b[1;33m=\u001b[0m\u001b[1;34m'datetime64[D]'\u001b[0m\u001b[1;33m)\u001b[0m\u001b[1;33m\u001b[0m\u001b[0m\n\u001b[0m",
      "\u001b[1;31mTypeError\u001b[0m: Cannot cast NumPy timedelta64 scalar from metadata [m] to [D] according to the rule 'same_kind'"
     ]
    }
   ],
   "source": [
    "np.arange(b, a, dtype='datetime64[D]')"
   ]
  },
  {
   "cell_type": "markdown",
   "metadata": {
    "collapsed": true
   },
   "source": [
    "### pareto分布"
   ]
  },
  {
   "cell_type": "code",
   "execution_count": 76,
   "metadata": {
    "collapsed": false
   },
   "outputs": [
    {
     "name": "stdout",
     "output_type": "stream",
     "text": [
      "Populating the interactive namespace from numpy and matplotlib\n"
     ]
    }
   ],
   "source": [
    "%pylab inline"
   ]
  },
  {
   "cell_type": "code",
   "execution_count": 162,
   "metadata": {
    "collapsed": true
   },
   "outputs": [],
   "source": [
    "from scipy import stats\n",
    "import matplotlib.pyplot as plt"
   ]
  },
  {
   "cell_type": "code",
   "execution_count": 393,
   "metadata": {
    "collapsed": false
   },
   "outputs": [
    {
     "data": {
      "image/png": "[encoded data removed]",
      "text/plain": [
       "<matplotlib.figure.Figure at 0x22d17ac8>"
      ]
     },
     "metadata": {},
     "output_type": "display_data"
    }
   ],
   "source": [
    "fig = plt.figure(figsize=(14,4))\n",
    "x = stats.pareto.rvs(2.6, size=1000)\n",
    "xt, xt_lambda = stats.boxcox(x)\n",
    "\n",
    "ax1 = fig.add_subplot(121)\n",
    "ax1.hist(x, alpha=0.4)\n",
    "\n",
    "ax2 = fig.add_subplot(122)\n",
    "ax2.hist(xt, alpha=0.4)\n",
    "\n",
    "plt.show()"
   ]
  },
  {
   "cell_type": "code",
   "execution_count": null,
   "metadata": {
    "collapsed": true
   },
   "outputs": [],
   "source": []
  },
  {
   "cell_type": "code",
   "execution_count": 140,
   "metadata": {
    "collapsed": true
   },
   "outputs": [],
   "source": [
    "from scipy.stats import pareto\n",
    "import matplotlib.pyplot as plt"
   ]
  },
  {
   "cell_type": "code",
   "execution_count": 320,
   "metadata": {
    "collapsed": false
   },
   "outputs": [
    {
     "data": {
      "image/png": "[encoded data removed]",
      "text/plain": [
       "<matplotlib.figure.Figure at 0x22f2bdd8>"
      ]
     },
     "metadata": {},
     "output_type": "display_data"
    }
   ],
   "source": [
    "b = 2.62\n",
    "x = np.linspace(pareto.ppf(0.01, b),\n",
    "                pareto.ppf(0.99, b), 100)\n",
    "fig = plt.figure(figsize=(14,4))\n",
    "ax1 = fig.add_subplot(121)\n",
    "ax1.plot(x, pareto.pdf(x,b)) #密度函数\n",
    "ax1.grid(True)\n",
    "\n",
    "ax2 = fig.add_subplot(122)\n",
    "ax2.plot(x, pareto.cdf(x,b))#累计概率分布\n",
    "ax2.hlines(0.8, np.min(x), np.max(x), colors='r', alpha=0.8)\n",
    "ax2.grid(True)\n",
    "\n",
    "plt.show()"
   ]
  },
  {
   "cell_type": "code",
   "execution_count": null,
   "metadata": {
    "collapsed": true
   },
   "outputs": [],
   "source": []
  },
  {
   "cell_type": "code",
   "execution_count": 148,
   "metadata": {
    "collapsed": false
   },
   "outputs": [
    {
     "data": {
      "text/plain": [
       "True"
      ]
     },
     "execution_count": 148,
     "metadata": {},
     "output_type": "execute_result"
    }
   ],
   "source": [
    "vals = pareto.ppf([0.001, 0.5, 0.999], b)\n",
    "np.allclose([0.001, 0.5, 0.999], pareto.cdf(vals, b))"
   ]
  },
  {
   "cell_type": "code",
   "execution_count": 323,
   "metadata": {
    "collapsed": false
   },
   "outputs": [
    {
     "data": {
      "image/png": "[encoded data removed]",
      "text/plain": [
       "<matplotlib.figure.Figure at 0x1fe41550>"
      ]
     },
     "metadata": {},
     "output_type": "display_data"
    }
   ],
   "source": [
    "import numpy as np\n",
    "import statsmodels.api as sm # recommended import according to the docs\n",
    "import matplotlib.pyplot as plt\n",
    "\n",
    "sample = stats.pareto.rvs(2.6, size=100)\n",
    "ecdf = sm.distributions.ECDF(sample, side='right')\n",
    "\n",
    "x = np.linspace(min(sample), max(sample))\n",
    "y = ecdf(x)\n",
    "plt.step(x, y)\n",
    "plt.hlines(0.8, np.min(x),np.max(x), colors='r', alpha=0.2)\n",
    "plt.show()"
   ]
  },
  {
   "cell_type": "code",
   "execution_count": 263,
   "metadata": {
    "collapsed": false
   },
   "outputs": [
    {
     "data": {
      "text/plain": [
       "array([ 1.  ,  1.  ,  0.54,  1.  ])"
      ]
     },
     "execution_count": 263,
     "metadata": {},
     "output_type": "execute_result"
    }
   ],
   "source": [
    "ecdf([3, 55, 0.5, 1.5])"
   ]
  },
  {
   "cell_type": "code",
   "execution_count": 150,
   "metadata": {
    "collapsed": false
   },
   "outputs": [
    {
     "data": {
      "image/png": "[encoded data removed]",
      "text/plain": [
       "<matplotlib.figure.Figure at 0x194c8cc0>"
      ]
     },
     "metadata": {},
     "output_type": "display_data"
    }
   ],
   "source": [
    "plt.hist(r, normed=True, histtype='stepfilled', alpha=0.2)\n",
    "ax.legend(loc='best', frameon=False)\n",
    "plt.show()"
   ]
  },
  {
   "cell_type": "code",
   "execution_count": null,
   "metadata": {
    "collapsed": true
   },
   "outputs": [],
   "source": []
  },
  {
   "cell_type": "code",
   "execution_count": 429,
   "metadata": {
    "collapsed": false
   },
   "outputs": [
    {
     "data": {
      "image/png": "[encoded data removed]",
      "text/plain": [
       "<matplotlib.figure.Figure at 0x231a30b8>"
      ]
     },
     "metadata": {},
     "output_type": "display_data"
    }
   ],
   "source": [
    "import numpy as np\n",
    "from statsmodels.distributions.empirical_distribution import ECDF\n",
    "\n",
    "data = stats.pareto.rvs(2.6, size=100)\n",
    "ecdf = ECDF(data)\n",
    "\n",
    "xmin=np.min(data)\n",
    "xmax = np.max(data)\n",
    "x = np.linspace(xmin, xmax)\n",
    "y = ecdf(x)\n",
    "# ecdf([3, 3, 1, 4])\n",
    "plt.step(x, y)\n",
    "plt.xlim(1,10)\n",
    "plt.ylim(0,1.1)\n",
    "# plt.hlines(0.8, 1,10, colors='r',linestyles='solid',alpha=0.5)\n",
    "plt.grid(True)\n",
    "plt.show()"
   ]
  },
  {
   "cell_type": "markdown",
   "metadata": {
    "collapsed": true
   },
   "source": [
    "### CDF"
   ]
  },
  {
   "cell_type": "markdown",
   "metadata": {},
   "source": [
    "[CDF](http://stackoverflow.com/questions/24575869/read-file-and-plot-cdf-in-python)"
   ]
  },
  {
   "cell_type": "code",
   "execution_count": 437,
   "metadata": {
    "collapsed": false
   },
   "outputs": [
    {
     "data": {
      "image/png": "[encoded data removed]",
      "text/plain": [
       "<matplotlib.figure.Figure at 0x23224080>"
      ]
     },
     "metadata": {},
     "output_type": "display_data"
    }
   ],
   "source": [
    "import numpy as np\n",
    "import matplotlib.pyplot as plt\n",
    "\n",
    "data = stats.pareto.rvs(2.6, size=1000)\n",
    "num_bins = 100\n",
    "\n",
    "# Use the histogram function to bin the data\n",
    "counts, bin_edges = np.histogram(data, bins=num_bins)\n",
    "\n",
    "cdf = 1.0*np.cumsum(counts)/np.sum(counts)\n",
    "plt.step(bin_edges[1:], cdf)\n",
    "# plt.xlim(1, 6)\n",
    "plt.grid(True)\n",
    "plt.ylim(0,1.1)\n",
    "plt.show()\n"
   ]
  },
  {
   "cell_type": "code",
   "execution_count": null,
   "metadata": {
    "collapsed": true
   },
   "outputs": [],
   "source": []
  },
  {
   "cell_type": "markdown",
   "metadata": {},
   "source": [
    "[box-cox变换](http://docs.scipy.org/doc/scipy-dev/reference/generated/scipy.stats.boxcox.html)"
   ]
  },
  {
   "cell_type": "code",
   "execution_count": 227,
   "metadata": {
    "collapsed": false
   },
   "outputs": [
    {
     "name": "stdout",
     "output_type": "stream",
     "text": [
      "[ 1.9101651   1.03738145  1.54448901  1.2889196   2.23448423  2.70834508\n",
      "  1.14139601  1.22615856  1.43204057  1.63422734  1.48170851  6.22635528\n",
      "  1.28656154  1.00784714  1.52247985  1.12070482  1.71284598  1.32640883\n",
      "  1.21970762  1.04821103  1.38500532  1.10286239  1.00125341  1.26050578\n",
      "  1.51000684  1.70264406  1.99142343  1.1190074   1.15489805  1.03369503\n",
      "  1.60389586  1.24042696  2.67454178  1.32396919  2.79653262  1.79378638\n",
      "  1.21061402  2.30536043  1.08526085  1.7640386   1.09369006  1.1340843\n",
      "  1.28062468  1.24217693  1.73504142  1.05747959  1.01215743  1.17032753\n",
      "  2.20201786  2.05603946  1.01474157  2.49100733  1.18098872  1.13126\n",
      "  1.60681151  1.21013159  1.13906407  1.12834727  2.26158607  1.02310813\n",
      "  1.72319723  1.37533226  1.92552707  3.06298874  1.20391325  1.22289098\n",
      "  1.28112762  1.81570129  1.05412972  2.8018418   1.39698358  1.64617159\n",
      "  1.07382424  1.42616278  2.26185787  1.98276058  1.17398817  1.66091288\n",
      "  1.04382223  1.35857531  2.66082024  1.20031969  3.45737648  1.02014858\n",
      "  1.1439629   1.21579607  1.29832757  1.26135529  2.38201516  1.24665074\n",
      "  1.37055816  3.43031327  1.04945036  3.98244724  7.76658132  1.15469598\n",
      "  1.05085866  2.19552956  1.18971979  1.02881343]\n"
     ]
    },
    {
     "data": {
      "text/plain": [
       "<matplotlib.figure.Figure at 0x1b5abb38>"
      ]
     },
     "metadata": {},
     "output_type": "display_data"
    }
   ],
   "source": [
    "fig = plt.figure(figsize=(14,8))\n",
    "x = stats.pareto.rvs(2.6, size=100)  # 生成随机数\n",
    "print x"
   ]
  },
  {
   "cell_type": "code",
   "execution_count": 203,
   "metadata": {
    "collapsed": false
   },
   "outputs": [
    {
     "data": {
      "image/png": "[encoded data removed]",
      "text/plain": [
       "<matplotlib.figure.Figure at 0x1b01d198>"
      ]
     },
     "metadata": {},
     "output_type": "display_data"
    }
   ],
   "source": [
    "xt, xt_lambda = stats.boxcox(x)  # box-cox变换\n",
    "\n",
    "ax1 = fig.add_subplot(221)\n",
    "ax1.hist(x, alpha=0.3)\n",
    "# ax1.grid(axis='y')\n",
    "\n",
    "ax2 = fig.add_subplot(222)\n",
    "ax2.hist(xt, alpha=0.3)\n",
    "# ax2.grid(axis='y')\n",
    "\n",
    "ax3 = fig.add_subplot(223)\n",
    "prob = stats.probplot(x, dist=stats.norm, plot=ax3)\n",
    "ax3.set_title('before')\n",
    "\n",
    "ax4 = fig.add_subplot(224)\n",
    "\n",
    "prob = stats.probplot(xt, dist=stats.norm, plot=ax4)\n",
    "ax4.set_title('after')\n",
    "\n",
    "plt.show()"
   ]
  },
  {
   "cell_type": "code",
   "execution_count": 205,
   "metadata": {
    "collapsed": false
   },
   "outputs": [
    {
     "name": "stdout",
     "output_type": "stream",
     "text": [
      "[  1.00038194   1.30285758  13.96491086]\n"
     ]
    }
   ],
   "source": [
    "vals = pareto.ppf([0.001, 0.5, 0.999], b)\n",
    "print vals"
   ]
  },
  {
   "cell_type": "code",
   "execution_count": null,
   "metadata": {
    "collapsed": true
   },
   "outputs": [],
   "source": [
    "dtype"
   ]
  },
  {
   "cell_type": "code",
   "execution_count": 440,
   "metadata": {
    "collapsed": false
   },
   "outputs": [
    {
     "data": {
      "text/plain": [
       "array([-1., -1.,  0.,  1.,  1.,  1.])"
      ]
     },
     "execution_count": 440,
     "metadata": {},
     "output_type": "execute_result"
    }
   ],
   "source": [
    "x = np.linspace(-2.5, 2.5, 6)\n",
    "np.piecewise(x, [x<-1, (x>=-1) & (x<0), x>=0],[-1,0,1])"
   ]
  },
  {
   "cell_type": "code",
   "execution_count": 441,
   "metadata": {
    "collapsed": false
   },
   "outputs": [
    {
     "name": "stdout",
     "output_type": "stream",
     "text": [
      "     *** Found in numpy ***\n",
      " dtype()\n",
      "\n",
      "dtype(obj, align=False, copy=False)\n",
      "\n",
      "Create a data type object.\n",
      "\n",
      "A numpy array is homogeneous, and contains elements described by a\n",
      "dtype object. A dtype object can be constructed from different\n",
      "combinations of fundamental numeric types.\n",
      "\n",
      "Parameters\n",
      "----------\n",
      "obj\n",
      "    Object to be converted to a data type object.\n",
      "align : bool, optional\n",
      "    Add padding to the fields to match what a C compiler would output\n",
      "    for a similar C-struct. Can be ``True`` only if `obj` is a dictionary\n",
      "    or a comma-separated string. If a struct dtype is being created,\n",
      "    this also sets a sticky alignment flag ``isalignedstruct``.\n",
      "copy : bool, optional\n",
      "    Make a new copy of the data-type object. If ``False``, the result\n",
      "    may just be a reference to a built-in data-type object.\n",
      "\n",
      "See also\n",
      "--------\n",
      "result_type\n",
      "\n",
      "Examples\n",
      "--------\n",
      "Using array-scalar type:\n",
      "\n",
      ">>> np.dtype(np.int16)\n",
      "dtype('int16')\n",
      "\n",
      "Record, one field name 'f1', containing int16:\n",
      "\n",
      ">>> np.dtype([('f1', np.int16)])\n",
      "dtype([('f1', '<i2')])\n",
      "\n",
      "Record, one field named 'f1', in itself containing a record with one field:\n",
      "\n",
      ">>> np.dtype([('f1', [('f1', np.int16)])])\n",
      "dtype([('f1', [('f1', '<i2')])])\n",
      "\n",
      "Record, two fields: the first field contains an unsigned int, the\n",
      "second an int32:\n",
      "\n",
      ">>> np.dtype([('f1', np.uint), ('f2', np.int32)])\n",
      "dtype([('f1', '<u4'), ('f2', '<i4')])\n",
      "\n",
      "Using array-protocol type strings:\n",
      "\n",
      ">>> np.dtype([('a','f8'),('b','S10')])\n",
      "dtype([('a', '<f8'), ('b', '|S10')])\n",
      "\n",
      "Using comma-separated field formats.  The shape is (2,3):\n",
      "\n",
      ">>> np.dtype(\"i4, (2,3)f8\")\n",
      "dtype([('f0', '<i4'), ('f1', '<f8', (2, 3))])\n",
      "\n",
      "Using tuples.  ``int`` is a fixed type, 3 the field's shape.  ``void``\n",
      "is a flexible type, here of size 10:\n",
      "\n",
      ">>> np.dtype([('hello',(np.int,3)),('world',np.void,10)])\n",
      "dtype([('hello', '<i4', 3), ('world', '|V10')])\n",
      "\n",
      "Subdivide ``int16`` into 2 ``int8``'s, called x and y.  0 and 1 are\n",
      "the offsets in bytes:\n",
      "\n",
      ">>> np.dtype((np.int16, {'x':(np.int8,0), 'y':(np.int8,1)}))\n",
      "dtype(('<i2', [('x', '|i1'), ('y', '|i1')]))\n",
      "\n",
      "Using dictionaries.  Two fields named 'gender' and 'age':\n",
      "\n",
      ">>> np.dtype({'names':['gender','age'], 'formats':['S1',np.uint8]})\n",
      "dtype([('gender', '|S1'), ('age', '|u1')])\n",
      "\n",
      "Offsets in bytes, here 0 and 25:\n",
      "\n",
      ">>> np.dtype({'surname':('S25',0),'age':(np.uint8,25)})\n",
      "dtype([('surname', '|S25'), ('age', '|u1')])\n",
      "\n",
      "\n",
      "Methods:\n",
      "\n",
      "  newbyteorder  --  newbyteorder(new_order='S')\n",
      "----------------------------------------------------------------------------\n",
      "\n",
      "     *** Repeat reference found in numpy.core *** \n",
      "\n",
      "     *** Repeat reference found in numpy.ma.mrecords *** \n",
      "\n",
      "     *** Repeat reference found in numpy.core.numerictypes *** \n",
      "\n",
      "     *** Repeat reference found in numpy.core.numeric *** \n",
      "\n",
      "     *** Repeat reference found in numpy.core.multiarray *** \n",
      "\n",
      "     *** Total of 6 references found. ***\n"
     ]
    }
   ],
   "source": [
    "np.info('dtype')"
   ]
  },
  {
   "cell_type": "code",
   "execution_count": 443,
   "metadata": {
    "collapsed": false
   },
   "outputs": [
    {
     "data": {
      "text/plain": [
       "array([[1, 2, 3, 0, 0]])"
      ]
     },
     "execution_count": 443,
     "metadata": {},
     "output_type": "execute_result"
    }
   ],
   "source": [
    "np.c_[np.array([[1,2,3]]), 0, 0]"
   ]
  },
  {
   "cell_type": "code",
   "execution_count": 442,
   "metadata": {
    "collapsed": false
   },
   "outputs": [
    {
     "data": {
      "text/plain": [
       "array([[1, 2, 3, 0, 0, 4, 5, 6]])"
      ]
     },
     "execution_count": 442,
     "metadata": {},
     "output_type": "execute_result"
    }
   ],
   "source": [
    "np.c_[np.array([[1,2,3]]), 0, 0, np.array([[4,5,6]])]"
   ]
  },
  {
   "cell_type": "code",
   "execution_count": 444,
   "metadata": {
    "collapsed": false
   },
   "outputs": [
    {
     "data": {
      "text/plain": [
       "array([1, 2, 3, 0, 0, 4, 5, 6])"
      ]
     },
     "execution_count": 444,
     "metadata": {},
     "output_type": "execute_result"
    }
   ],
   "source": [
    "np.r_[np.array([1,2,3]), 0, 0, np.array([4,5,6])]"
   ]
  },
  {
   "cell_type": "code",
   "execution_count": 446,
   "metadata": {
    "collapsed": false
   },
   "outputs": [
    {
     "name": "stdout",
     "output_type": "stream",
     "text": [
      "[[ 0.  1.  2.]\n",
      " [ 3.  4.  5.]\n",
      " [ 6.  7.  8.]]\n"
     ]
    }
   ],
   "source": [
    "x = np.arange(9.).reshape(3, 3)\n",
    "np.where(x<5, x, 999)\n",
    "print x"
   ]
  },
  {
   "cell_type": "code",
   "execution_count": 447,
   "metadata": {
    "collapsed": false
   },
   "outputs": [
    {
     "data": {
      "text/plain": [
       "array([-0.18518519,  1.03174603, -0.32275132,  0.12698413])"
      ]
     },
     "execution_count": 447,
     "metadata": {},
     "output_type": "execute_result"
    }
   ],
   "source": [
    "x = np.array([0.0, 1.0, 2.0, 3.0,  4.0,  5.0])\n",
    "y = np.array([0.0, 1, 2, 3, 4, 1])\n",
    "z = np.polyfit(x, y, 3)\n",
    "z"
   ]
  },
  {
   "cell_type": "code",
   "execution_count": 452,
   "metadata": {
    "collapsed": true
   },
   "outputs": [],
   "source": [
    "y = ((i,i) for i in range(10))"
   ]
  },
  {
   "cell_type": "code",
   "execution_count": 454,
   "metadata": {
    "collapsed": false
   },
   "outputs": [
    {
     "ename": "TypeError",
     "evalue": "union1d() takes exactly 2 arguments (1 given)",
     "output_type": "error",
     "traceback": [
      "\u001b[1;31m---------------------------------------------------------------------------\u001b[0m",
      "\u001b[1;31mTypeError\u001b[0m                                 Traceback (most recent call last)",
      "\u001b[1;32m<ipython-input-454-6deaf47b7f05>\u001b[0m in \u001b[0;36m<module>\u001b[1;34m()\u001b[0m\n\u001b[1;32m----> 1\u001b[1;33m \u001b[0mnp\u001b[0m\u001b[1;33m.\u001b[0m\u001b[0munion1d\u001b[0m\u001b[1;33m(\u001b[0m\u001b[0mitem\u001b[0m \u001b[1;32mfor\u001b[0m \u001b[0mitem\u001b[0m \u001b[1;32min\u001b[0m \u001b[0my\u001b[0m\u001b[1;33m)\u001b[0m\u001b[1;33m\u001b[0m\u001b[0m\n\u001b[0m",
      "\u001b[1;31mTypeError\u001b[0m: union1d() takes exactly 2 arguments (1 given)"
     ]
    }
   ],
   "source": [
    "np.union1d(item for item in y)"
   ]
  },
  {
   "cell_type": "code",
   "execution_count": 457,
   "metadata": {
    "collapsed": false
   },
   "outputs": [
    {
     "data": {
      "text/html": [
       "<div>\n",
       "<table border=\"1\" class=\"dataframe\">\n",
       "  <thead>\n",
       "    <tr style=\"text-align: right;\">\n",
       "      <th></th>\n",
       "      <th>AAA</th>\n",
       "      <th>BBB</th>\n",
       "      <th>CCC</th>\n",
       "    </tr>\n",
       "  </thead>\n",
       "  <tbody>\n",
       "    <tr>\n",
       "      <th>0</th>\n",
       "      <td>4</td>\n",
       "      <td>10</td>\n",
       "      <td>100</td>\n",
       "    </tr>\n",
       "    <tr>\n",
       "      <th>1</th>\n",
       "      <td>5</td>\n",
       "      <td>20</td>\n",
       "      <td>50</td>\n",
       "    </tr>\n",
       "    <tr>\n",
       "      <th>2</th>\n",
       "      <td>6</td>\n",
       "      <td>30</td>\n",
       "      <td>-30</td>\n",
       "    </tr>\n",
       "    <tr>\n",
       "      <th>3</th>\n",
       "      <td>7</td>\n",
       "      <td>40</td>\n",
       "      <td>-50</td>\n",
       "    </tr>\n",
       "  </tbody>\n",
       "</table>\n",
       "</div>"
      ],
      "text/plain": [
       "   AAA  BBB  CCC\n",
       "0    4   10  100\n",
       "1    5   20   50\n",
       "2    6   30  -30\n",
       "3    7   40  -50"
      ]
     },
     "execution_count": 457,
     "metadata": {},
     "output_type": "execute_result"
    }
   ],
   "source": [
    "import pandas as pd\n",
    "df = pd.DataFrame({'AAA' : [4,5,6,7], 'BBB' : [10,20,30,40],'CCC' : [100,50,-30,-50]}); df"
   ]
  },
  {
   "cell_type": "code",
   "execution_count": 458,
   "metadata": {
    "collapsed": false
   },
   "outputs": [
    {
     "data": {
      "text/html": [
       "<div>\n",
       "<table border=\"1\" class=\"dataframe\">\n",
       "  <thead>\n",
       "    <tr style=\"text-align: right;\">\n",
       "      <th></th>\n",
       "      <th>AAA</th>\n",
       "      <th>BBB</th>\n",
       "      <th>CCC</th>\n",
       "    </tr>\n",
       "  </thead>\n",
       "  <tbody>\n",
       "    <tr>\n",
       "      <th>0</th>\n",
       "      <td>4</td>\n",
       "      <td>10</td>\n",
       "      <td>100</td>\n",
       "    </tr>\n",
       "    <tr>\n",
       "      <th>1</th>\n",
       "      <td>5</td>\n",
       "      <td>-1</td>\n",
       "      <td>50</td>\n",
       "    </tr>\n",
       "    <tr>\n",
       "      <th>2</th>\n",
       "      <td>6</td>\n",
       "      <td>-1</td>\n",
       "      <td>-30</td>\n",
       "    </tr>\n",
       "    <tr>\n",
       "      <th>3</th>\n",
       "      <td>7</td>\n",
       "      <td>-1</td>\n",
       "      <td>-50</td>\n",
       "    </tr>\n",
       "  </tbody>\n",
       "</table>\n",
       "</div>"
      ],
      "text/plain": [
       "   AAA  BBB  CCC\n",
       "0    4   10  100\n",
       "1    5   -1   50\n",
       "2    6   -1  -30\n",
       "3    7   -1  -50"
      ]
     },
     "execution_count": 458,
     "metadata": {},
     "output_type": "execute_result"
    }
   ],
   "source": [
    " df.ix[df.AAA >= 5,'BBB'] = -1; df"
   ]
  },
  {
   "cell_type": "code",
   "execution_count": 459,
   "metadata": {
    "collapsed": false
   },
   "outputs": [
    {
     "ename": "ImportError",
     "evalue": "No module named Monary",
     "output_type": "error",
     "traceback": [
      "\u001b[1;31m---------------------------------------------------------------------------\u001b[0m",
      "\u001b[1;31mImportError\u001b[0m                               Traceback (most recent call last)",
      "\u001b[1;32m<ipython-input-459-9a4ad66ae668>\u001b[0m in \u001b[0;36m<module>\u001b[1;34m()\u001b[0m\n\u001b[1;32m----> 1\u001b[1;33m \u001b[1;32mimport\u001b[0m \u001b[0mMonary\u001b[0m\u001b[1;33m\u001b[0m\u001b[0m\n\u001b[0m",
      "\u001b[1;31mImportError\u001b[0m: No module named Monary"
     ]
    }
   ],
   "source": [
    "pd.read_msgpa"
   ]
  },
  {
   "cell_type": "code",
   "execution_count": 5,
   "metadata": {
    "collapsed": false
   },
   "outputs": [
    {
     "data": {
      "text/plain": [
       "[(1, 4), (2, 5), (3, 6)]"
      ]
     },
     "execution_count": 5,
     "metadata": {},
     "output_type": "execute_result"
    }
   ],
   "source": [
    "zip(*[(1,2,3), (4,5,6)])"
   ]
  },
  {
   "cell_type": "code",
   "execution_count": 282,
   "metadata": {
    "collapsed": false
   },
   "outputs": [
    {
     "name": "stdout",
     "output_type": "stream",
     "text": [
      "(1, 0)\n",
      "(2, 1)\n",
      "(3, 2)\n",
      "(4, 3)\n",
      "(5, 4)\n",
      "(6, 5)\n",
      "(7, 6)\n",
      "(8, 7)\n",
      "(9, 8)\n",
      "(10, 9)\n",
      "(11, 10)\n",
      "(12, 11)\n",
      "(13, 12)\n",
      "(14, 13)\n",
      "(15, 14)\n",
      "(16, 15)\n",
      "(17, 16)\n",
      "(18, 17)\n",
      "(19, 18)\n",
      "(20, 19)\n",
      "(21, 20)\n",
      "(22, 21)\n",
      "(23, 22)\n",
      "(24, 23)\n",
      "(25, 24)\n",
      "(26, 25)\n",
      "(27, 26)\n",
      "(28, 27)\n",
      "(29, 28)\n",
      "(30, 29)\n",
      "(31, 30)\n",
      "(32, 31)\n",
      "(33, 32)\n",
      "(34, 33)\n",
      "(35, 34)\n",
      "(36, 35)\n",
      "(37, 36)\n",
      "(38, 37)\n",
      "(39, 38)\n",
      "(40, 39)\n",
      "(41, 40)\n",
      "(42, 41)\n",
      "(43, 42)\n",
      "(44, 43)\n",
      "(45, 44)\n",
      "(46, 45)\n",
      "(47, 46)\n",
      "(48, 47)\n",
      "(49, 48)\n",
      "(50, 49)\n",
      "(51, 50)\n",
      "(52, 51)\n",
      "(53, 52)\n",
      "(54, 53)\n",
      "(55, 54)\n",
      "(56, 55)\n",
      "(57, 56)\n",
      "(58, 57)\n",
      "(59, 58)\n",
      "(60, 59)\n",
      "(61, 60)\n",
      "(62, 61)\n",
      "(63, 62)\n",
      "(64, 63)\n",
      "(65, 64)\n",
      "(66, 65)\n",
      "(67, 66)\n",
      "(68, 67)\n",
      "(69, 68)\n",
      "(70, 69)\n",
      "(71, 70)\n",
      "(72, 71)\n",
      "(73, 72)\n",
      "(74, 73)\n",
      "(75, 74)\n",
      "(76, 75)\n",
      "(77, 76)\n",
      "(78, 77)\n",
      "(79, 78)\n",
      "(80, 79)\n",
      "(81, 80)\n",
      "(82, 81)\n",
      "(83, 82)\n",
      "(84, 83)\n",
      "(85, 84)\n",
      "(86, 85)\n",
      "(87, 86)\n",
      "(88, 87)\n",
      "(89, 88)\n",
      "(90, 89)\n",
      "(91, 90)\n",
      "(92, 91)\n",
      "(93, 92)\n",
      "(94, 93)\n",
      "(95, 94)\n",
      "(96, 95)\n",
      "(97, 96)\n",
      "(98, 97)\n",
      "(99, 98)\n",
      "(100, 99)\n",
      "(101, 100)\n",
      "(102, 101)\n",
      "(103, 102)\n",
      "(104, 103)\n",
      "(105, 104)\n",
      "(106, 105)\n",
      "(107, 106)\n",
      "(108, 107)\n",
      "(109, 108)\n",
      "(110, 109)\n",
      "(111, 110)\n",
      "(112, 111)\n",
      "(113, 112)\n",
      "(114, 113)\n",
      "(115, 114)\n",
      "(116, 115)\n",
      "(117, 116)\n",
      "(118, 117)\n",
      "(119, 118)\n",
      "(120, 119)\n",
      "(121, 120)\n",
      "(122, 121)\n",
      "(123, 122)\n",
      "(124, 123)\n",
      "(125, 124)\n",
      "(126, 125)\n",
      "(127, 126)\n",
      "(128, 127)\n",
      "(129, 128)\n",
      "(130, 129)\n",
      "(131, 130)\n",
      "(132, 131)\n",
      "(133, 132)\n",
      "(134, 133)\n",
      "(135, 134)\n",
      "(136, 135)\n",
      "(137, 136)\n",
      "(138, 137)\n",
      "(139, 138)\n",
      "(140, 139)\n",
      "(141, 140)\n",
      "(142, 141)\n",
      "(143, 142)\n",
      "(144, 143)\n",
      "(145, 144)\n",
      "(146, 145)\n",
      "(147, 146)\n",
      "(148, 147)\n",
      "(149, 148)\n",
      "(150, 149)\n",
      "(151, 150)\n",
      "(152, 151)\n",
      "(153, 152)\n",
      "(154, 153)\n",
      "(155, 154)\n",
      "(156, 155)\n",
      "(157, 156)\n",
      "(158, 157)\n",
      "(159, 158)\n",
      "(160, 159)\n",
      "(161, 160)\n",
      "(162, 161)\n",
      "(163, 162)\n",
      "(164, 163)\n",
      "(165, 164)\n",
      "(166, 165)\n",
      "(167, 166)\n",
      "(168, 167)\n",
      "(169, 168)\n",
      "(170, 169)\n",
      "(171, 170)\n",
      "(172, 171)\n",
      "(173, 172)\n",
      "(174, 173)\n",
      "(175, 174)\n",
      "(176, 175)\n",
      "(177, 176)\n",
      "(178, 177)\n",
      "(179, 178)\n",
      "(180, 179)\n",
      "(181, 180)\n",
      "(182, 181)\n",
      "(183, 182)\n",
      "(184, 183)\n",
      "(185, 184)\n",
      "(186, 185)\n",
      "(187, 186)\n",
      "(188, 187)\n",
      "(189, 188)\n",
      "(190, 189)\n",
      "(191, 190)\n",
      "(192, 191)\n",
      "(193, 192)\n",
      "(194, 193)\n",
      "(195, 194)\n",
      "(196, 195)\n",
      "(197, 196)\n",
      "(198, 197)\n",
      "(199, 198)\n",
      "(200, 199)\n",
      "(201, 200)\n",
      "(202, 201)\n",
      "(203, 202)\n",
      "(204, 203)\n",
      "(205, 204)\n",
      "(206, 205)\n",
      "(207, 206)\n",
      "(208, 207)\n",
      "(209, 208)\n",
      "(210, 209)\n",
      "(211, 210)\n",
      "(212, 211)\n",
      "(213, 212)\n",
      "(214, 213)\n",
      "(215, 214)\n",
      "(216, 215)\n",
      "(217, 216)\n",
      "(218, 217)\n",
      "(219, 218)\n",
      "(220, 219)\n",
      "(221, 220)\n",
      "(222, 221)\n",
      "(223, 222)\n",
      "(224, 223)\n",
      "(225, 224)\n",
      "(226, 225)\n",
      "(227, 226)\n",
      "(228, 227)\n",
      "(229, 228)\n",
      "(230, 229)\n",
      "(231, 230)\n",
      "(232, 231)\n",
      "(233, 232)\n",
      "(234, 233)\n",
      "(235, 234)\n",
      "(236, 235)\n",
      "(237, 236)\n",
      "(238, 237)\n",
      "(239, 238)\n",
      "(240, 239)\n",
      "(241, 240)\n",
      "(242, 241)\n",
      "(243, 242)\n",
      "(244, 243)\n",
      "(245, 244)\n",
      "(246, 245)\n",
      "(247, 246)\n",
      "(248, 247)\n",
      "(249, 248)\n",
      "(250, 249)\n",
      "(251, 250)\n",
      "(252, 251)\n",
      "(253, 252)\n",
      "(254, 253)\n",
      "(255, 254)\n",
      "(256, 255)\n",
      "(257, 256)\n",
      "(258, 257)\n",
      "(259, 258)\n",
      "(260, 259)\n",
      "(261, 260)\n",
      "(262, 261)\n",
      "(263, 262)\n",
      "(264, 263)\n",
      "(265, 264)\n",
      "(266, 265)\n",
      "(267, 266)\n",
      "(268, 267)\n",
      "(269, 268)\n",
      "(270, 269)\n",
      "(271, 270)\n",
      "(272, 271)\n",
      "(273, 272)\n",
      "(274, 273)\n",
      "(275, 274)\n",
      "(276, 275)\n",
      "(277, 276)\n",
      "(278, 277)\n",
      "(279, 278)\n",
      "(280, 279)\n",
      "(281, 280)\n",
      "(282, 281)\n",
      "(283, 282)\n",
      "(284, 283)\n",
      "(285, 284)\n",
      "(286, 285)\n",
      "(287, 286)\n",
      "(288, 287)\n",
      "(289, 288)\n",
      "(290, 289)\n",
      "(291, 290)\n",
      "(292, 291)\n",
      "(293, 292)\n",
      "(294, 293)\n",
      "(295, 294)\n",
      "(296, 295)\n",
      "(297, 296)\n",
      "(298, 297)\n",
      "(299, 298)\n",
      "(300, 299)\n",
      "(301, 300)\n",
      "(302, 301)\n",
      "(303, 302)\n",
      "(304, 303)\n",
      "(305, 304)\n",
      "(306, 305)\n",
      "(307, 306)\n",
      "(308, 307)\n",
      "(309, 308)\n",
      "(310, 309)\n",
      "(311, 310)\n",
      "(312, 311)\n",
      "(313, 312)\n",
      "(314, 313)\n",
      "(315, 314)\n",
      "(316, 315)\n",
      "(317, 316)\n",
      "(318, 317)\n",
      "(319, 318)\n",
      "(320, 319)\n",
      "(321, 320)\n",
      "(322, 321)\n",
      "(323, 322)\n",
      "(324, 323)\n",
      "(325, 324)\n",
      "(326, 325)\n",
      "(327, 326)\n",
      "(328, 327)\n",
      "(329, 328)\n",
      "(330, 329)\n",
      "(331, 330)\n",
      "(332, 331)\n",
      "(333, 332)\n",
      "(334, 333)\n",
      "(335, 334)\n",
      "(336, 335)\n",
      "(337, 336)\n",
      "(338, 337)\n",
      "(339, 338)\n",
      "(340, 339)\n",
      "(341, 340)\n",
      "(342, 341)\n",
      "(343, 342)\n",
      "(344, 343)\n",
      "(345, 344)\n",
      "(346, 345)\n",
      "(347, 346)\n",
      "(348, 347)\n",
      "(349, 348)\n",
      "(350, 349)\n",
      "(351, 350)\n",
      "(352, 351)\n",
      "(353, 352)\n",
      "(354, 353)\n",
      "(355, 354)\n",
      "(356, 355)\n",
      "(357, 356)\n",
      "(358, 357)\n",
      "(359, 358)\n",
      "(360, 359)\n",
      "(361, 360)\n",
      "(362, 361)\n",
      "(363, 362)\n",
      "(364, 363)\n",
      "(365, 364)\n",
      "(366, 365)\n",
      "(367, 366)\n",
      "(368, 367)\n",
      "(369, 368)\n",
      "(370, 369)\n",
      "(371, 370)\n",
      "(372, 371)\n",
      "(373, 372)\n",
      "(374, 373)\n",
      "(375, 374)\n",
      "(376, 375)\n",
      "(377, 376)\n",
      "(378, 377)\n",
      "(379, 378)\n",
      "(380, 379)\n",
      "(381, 380)\n",
      "(382, 381)\n",
      "(383, 382)\n",
      "(384, 383)\n",
      "(385, 384)\n",
      "(386, 385)\n",
      "(387, 386)\n",
      "(388, 387)\n",
      "(389, 388)\n",
      "(390, 389)\n",
      "(391, 390)\n",
      "(392, 391)\n",
      "(393, 392)\n",
      "(394, 393)\n",
      "(395, 394)\n",
      "(396, 395)\n",
      "(397, 396)\n",
      "(398, 397)\n",
      "(399, 398)\n",
      "(400, 399)\n",
      "(401, 400)\n",
      "(402, 401)\n",
      "(403, 402)\n",
      "(404, 403)\n",
      "(405, 404)\n",
      "(406, 405)\n",
      "(407, 406)\n",
      "(408, 407)\n",
      "(409, 408)\n",
      "(410, 409)\n",
      "(411, 410)\n",
      "(412, 411)\n",
      "(413, 412)\n",
      "(414, 413)\n",
      "(415, 414)\n",
      "(416, 415)\n",
      "(417, 416)\n",
      "(418, 417)\n",
      "(419, 418)\n",
      "(420, 419)\n",
      "(421, 420)\n",
      "(422, 421)\n",
      "(423, 422)\n",
      "(424, 423)\n",
      "(425, 424)\n",
      "(426, 425)\n",
      "(427, 426)\n",
      "(428, 427)\n",
      "(429, 428)\n",
      "(430, 429)\n",
      "(431, 430)\n",
      "(432, 431)\n",
      "(433, 432)\n",
      "(434, 433)\n",
      "(435, 434)\n",
      "(436, 435)\n",
      "(437, 436)\n",
      "(438, 437)\n",
      "(439, 438)\n",
      "(440, 439)\n",
      "(441, 440)\n",
      "(442, 441)\n",
      "(443, 442)\n",
      "(444, 443)\n",
      "(445, 444)\n",
      "(446, 445)\n",
      "(447, 446)\n",
      "(448, 447)\n",
      "(449, 448)\n",
      "(450, 449)\n",
      "(451, 450)\n",
      "(452, 451)\n",
      "(453, 452)\n",
      "(454, 453)\n",
      "(455, 454)\n",
      "(456, 455)\n",
      "(457, 456)\n",
      "(458, 457)\n",
      "(459, 458)\n",
      "(460, 459)\n",
      "(461, 460)\n",
      "(462, 461)\n",
      "(463, 462)\n",
      "(464, 463)\n",
      "(465, 464)\n",
      "(466, 465)\n",
      "(467, 466)\n",
      "(468, 467)\n",
      "(469, 468)\n",
      "(470, 469)\n",
      "(471, 470)\n",
      "(472, 471)\n",
      "(473, 472)\n",
      "(474, 473)\n",
      "(475, 474)\n",
      "(476, 475)\n",
      "(477, 476)\n",
      "(478, 477)\n",
      "(479, 478)\n",
      "(480, 479)\n",
      "(481, 480)\n",
      "(482, 481)\n",
      "(483, 482)\n",
      "(484, 483)\n",
      "(485, 484)\n",
      "(486, 485)\n",
      "(487, 486)\n",
      "(488, 487)\n",
      "(489, 488)\n",
      "(490, 489)\n",
      "(491, 490)\n",
      "(492, 491)\n",
      "(493, 492)\n",
      "(494, 493)\n",
      "(495, 494)\n",
      "(496, 495)\n",
      "(497, 496)\n",
      "(498, 497)\n",
      "(499, 498)\n",
      "(500, 499)\n",
      "(501, 500)\n",
      "(502, 501)\n",
      "(503, 502)\n",
      "(504, 503)\n",
      "(505, 504)\n",
      "(506, 505)\n",
      "(507, 506)\n",
      "(508, 507)\n",
      "(509, 508)\n",
      "(510, 509)\n",
      "(511, 510)\n",
      "(512, 511)\n",
      "(513, 512)\n",
      "(514, 513)\n",
      "(515, 514)\n",
      "(516, 515)\n",
      "(517, 516)\n",
      "(518, 517)\n",
      "(519, 518)\n",
      "(520, 519)\n",
      "(521, 520)\n",
      "(522, 521)\n",
      "(523, 522)\n",
      "(524, 523)\n",
      "(525, 524)\n",
      "(526, 525)\n",
      "(527, 526)\n",
      "(528, 527)\n",
      "(529, 528)\n",
      "(530, 529)\n",
      "(531, 530)\n",
      "(532, 531)\n",
      "(533, 532)\n",
      "(534, 533)\n",
      "(535, 534)\n",
      "(536, 535)\n",
      "(537, 536)\n",
      "(538, 537)\n",
      "(539, 538)\n",
      "(540, 539)\n",
      "(541, 540)\n",
      "(542, 541)\n",
      "(543, 542)\n",
      "(544, 543)\n",
      "(545, 544)\n",
      "(546, 545)\n",
      "(547, 546)\n",
      "(548, 547)\n",
      "(549, 548)\n",
      "(550, 549)\n",
      "(551, 550)\n",
      "(552, 551)\n",
      "(553, 552)\n",
      "(554, 553)\n",
      "(555, 554)\n",
      "(556, 555)\n",
      "(557, 556)\n",
      "(558, 557)\n",
      "(559, 558)\n",
      "(560, 559)\n",
      "(561, 560)\n",
      "(562, 561)\n",
      "(563, 562)\n",
      "(564, 563)\n",
      "(565, 564)\n",
      "(566, 565)\n",
      "(567, 566)\n",
      "(568, 567)\n",
      "(569, 568)\n",
      "(570, 569)\n",
      "(571, 570)\n",
      "(572, 571)\n",
      "(573, 572)\n",
      "(574, 573)\n",
      "(575, 574)\n",
      "(576, 575)\n",
      "(577, 576)\n",
      "(578, 577)\n",
      "(579, 578)\n",
      "(580, 579)\n",
      "(581, 580)\n",
      "(582, 581)\n",
      "(583, 582)\n",
      "(584, 583)\n",
      "(585, 584)\n",
      "(586, 585)\n",
      "(587, 586)\n",
      "(588, 587)\n",
      "(589, 588)\n",
      "(590, 589)\n",
      "(591, 590)\n",
      "(592, 591)\n",
      "(593, 592)\n",
      "(594, 593)\n",
      "(595, 594)\n",
      "(596, 595)\n",
      "(597, 596)\n",
      "(598, 597)\n",
      "(599, 598)\n",
      "(600, 599)\n",
      "(601, 600)\n",
      "(602, 601)\n",
      "(603, 602)\n",
      "(604, 603)\n",
      "(605, 604)\n",
      "(606, 605)\n",
      "(607, 606)\n",
      "(608, 607)\n",
      "(609, 608)\n",
      "(610, 609)\n",
      "(611, 610)\n",
      "(612, 611)\n",
      "(613, 612)\n",
      "(614, 613)\n",
      "(615, 614)\n",
      "(616, 615)\n",
      "(617, 616)\n",
      "(618, 617)\n",
      "(619, 618)\n",
      "(620, 619)\n",
      "(621, 620)\n",
      "(622, 621)\n",
      "(623, 622)\n",
      "(624, 623)\n",
      "(625, 624)\n",
      "(626, 625)\n",
      "(627, 626)\n",
      "(628, 627)\n",
      "(629, 628)\n",
      "(630, 629)\n",
      "(631, 630)\n",
      "(632, 631)\n",
      "(633, 632)\n",
      "(634, 633)\n",
      "(635, 634)\n",
      "(636, 635)\n",
      "(637, 636)\n",
      "(638, 637)\n",
      "(639, 638)\n",
      "(640, 639)\n",
      "(641, 640)\n",
      "(642, 641)\n",
      "(643, 642)\n",
      "(644, 643)\n",
      "(645, 644)\n",
      "(646, 645)\n",
      "(647, 646)\n",
      "(648, 647)\n",
      "(649, 648)\n",
      "(650, 649)\n",
      "(651, 650)\n",
      "(652, 651)\n",
      "(653, 652)\n",
      "(654, 653)\n",
      "(655, 654)\n",
      "(656, 655)\n",
      "(657, 656)\n",
      "(658, 657)\n",
      "(659, 658)\n",
      "(660, 659)\n",
      "(661, 660)\n",
      "(662, 661)\n",
      "(663, 662)\n",
      "(664, 663)\n",
      "(665, 664)\n",
      "(666, 665)\n",
      "(667, 666)\n",
      "(668, 667)\n",
      "(669, 668)\n",
      "(670, 669)\n",
      "(671, 670)\n",
      "(672, 671)\n",
      "(673, 672)\n",
      "(674, 673)\n",
      "(675, 674)\n",
      "(676, 675)\n",
      "(677, 676)\n",
      "(678, 677)\n",
      "(679, 678)\n",
      "(680, 679)\n",
      "(681, 680)\n",
      "(682, 681)\n",
      "(683, 682)\n",
      "(684, 683)\n",
      "(685, 684)\n",
      "(686, 685)\n",
      "(687, 686)\n",
      "(688, 687)\n",
      "(689, 688)\n",
      "(690, 689)\n",
      "(691, 690)\n",
      "(692, 691)\n",
      "(693, 692)\n",
      "(694, 693)\n",
      "(695, 694)\n",
      "(696, 695)\n",
      "(697, 696)\n",
      "(698, 697)\n",
      "(699, 698)\n",
      "(700, 699)\n",
      "(701, 700)\n",
      "(702, 701)\n",
      "(703, 702)\n",
      "(704, 703)\n",
      "(705, 704)\n",
      "(706, 705)\n",
      "(707, 706)\n",
      "(708, 707)\n",
      "(709, 708)\n",
      "(710, 709)\n",
      "(711, 710)\n",
      "(712, 711)\n",
      "(713, 712)\n",
      "(714, 713)\n",
      "(715, 714)\n",
      "(716, 715)\n",
      "(717, 716)\n",
      "(718, 717)\n",
      "(719, 718)\n",
      "(720, 719)\n",
      "(721, 720)\n",
      "(722, 721)\n",
      "(723, 722)\n",
      "(724, 723)\n",
      "(725, 724)\n",
      "(726, 725)\n",
      "(727, 726)\n",
      "(728, 727)\n",
      "(729, 728)\n",
      "(730, 729)\n",
      "(731, 730)\n",
      "(732, 731)\n",
      "(733, 732)\n",
      "(734, 733)\n",
      "(735, 734)\n",
      "(736, 735)\n",
      "(737, 736)\n",
      "(738, 737)\n",
      "(739, 738)\n",
      "(740, 739)\n",
      "(741, 740)\n",
      "(742, 741)\n",
      "(743, 742)\n",
      "(744, 743)\n",
      "(745, 744)\n",
      "(746, 745)\n",
      "(747, 746)\n",
      "(748, 747)\n",
      "(749, 748)\n",
      "(750, 749)\n",
      "(751, 750)\n",
      "(752, 751)\n",
      "(753, 752)\n",
      "(754, 753)\n",
      "(755, 754)\n",
      "(756, 755)\n",
      "(757, 756)\n",
      "(758, 757)\n",
      "(759, 758)\n",
      "(760, 759)\n",
      "(761, 760)\n",
      "(762, 761)\n",
      "(763, 762)\n",
      "(764, 763)\n",
      "(765, 764)\n",
      "(766, 765)\n",
      "(767, 766)\n",
      "(768, 767)\n",
      "(769, 768)\n",
      "(770, 769)\n",
      "(771, 770)\n",
      "(772, 771)\n",
      "(773, 772)\n",
      "(774, 773)\n",
      "(775, 774)\n",
      "(776, 775)\n",
      "(777, 776)\n",
      "(778, 777)\n",
      "(779, 778)\n",
      "(780, 779)\n",
      "(781, 780)\n",
      "(782, 781)\n",
      "(783, 782)\n",
      "(784, 783)\n",
      "(785, 784)\n",
      "(786, 785)\n",
      "(787, 786)\n",
      "(788, 787)\n",
      "(789, 788)\n",
      "(790, 789)\n",
      "(791, 790)\n",
      "(792, 791)\n",
      "(793, 792)\n",
      "(794, 793)\n",
      "(795, 794)\n",
      "(796, 795)\n",
      "(797, 796)\n",
      "(798, 797)\n",
      "(799, 798)\n",
      "(800, 799)\n",
      "(801, 800)\n",
      "(802, 801)\n",
      "(803, 802)\n",
      "(804, 803)\n",
      "(805, 804)\n",
      "(806, 805)\n",
      "(807, 806)\n",
      "(808, 807)\n",
      "(809, 808)\n",
      "(810, 809)\n",
      "(811, 810)\n",
      "(812, 811)\n",
      "(813, 812)\n",
      "(814, 813)\n",
      "(815, 814)\n",
      "(816, 815)\n",
      "(817, 816)\n",
      "(818, 817)\n",
      "(819, 818)\n",
      "(820, 819)\n",
      "(821, 820)\n",
      "(822, 821)\n",
      "(823, 822)\n",
      "(824, 823)\n",
      "(825, 824)\n",
      "(826, 825)\n",
      "(827, 826)\n",
      "(828, 827)\n",
      "(829, 828)\n",
      "(830, 829)\n",
      "(831, 830)\n",
      "(832, 831)\n",
      "(833, 832)\n",
      "(834, 833)\n",
      "(835, 834)\n",
      "(836, 835)\n",
      "(837, 836)\n",
      "(838, 837)\n",
      "(839, 838)\n",
      "(840, 839)\n",
      "(841, 840)\n",
      "(842, 841)\n",
      "(843, 842)\n",
      "(844, 843)\n",
      "(845, 844)\n",
      "(846, 845)\n",
      "(847, 846)\n",
      "(848, 847)\n",
      "(849, 848)\n",
      "(850, 849)\n",
      "(851, 850)\n",
      "(852, 851)\n",
      "(853, 852)\n",
      "(854, 853)\n",
      "(855, 854)\n",
      "(856, 855)\n",
      "(857, 856)\n",
      "(858, 857)\n",
      "(859, 858)\n",
      "(860, 859)\n",
      "(861, 860)\n",
      "(862, 861)\n",
      "(863, 862)\n",
      "(864, 863)\n",
      "(865, 864)\n",
      "(866, 865)\n",
      "(867, 866)\n",
      "(868, 867)\n",
      "(869, 868)\n",
      "(870, 869)\n",
      "(871, 870)\n",
      "(872, 871)\n",
      "(873, 872)\n",
      "(874, 873)\n",
      "(875, 874)\n",
      "(876, 875)\n",
      "(877, 876)\n",
      "(878, 877)\n",
      "(879, 878)\n",
      "(880, 879)\n",
      "(881, 880)\n",
      "(882, 881)\n",
      "(883, 882)\n",
      "(884, 883)\n",
      "(885, 884)\n",
      "(886, 885)\n",
      "(887, 886)\n",
      "(888, 887)\n",
      "(889, 888)\n",
      "(890, 889)\n",
      "(891, 890)\n",
      "(892, 891)\n",
      "(893, 892)\n",
      "(894, 893)\n",
      "(895, 894)\n",
      "(896, 895)\n",
      "(897, 896)\n",
      "(898, 897)\n",
      "(899, 898)\n",
      "(900, 899)\n",
      "(901, 900)\n",
      "(902, 901)\n",
      "(903, 902)\n",
      "(904, 903)\n",
      "(905, 904)\n",
      "(906, 905)\n",
      "(907, 906)\n",
      "(908, 907)\n",
      "(909, 908)\n",
      "(910, 909)\n",
      "(911, 910)\n",
      "(912, 911)\n",
      "(913, 912)\n",
      "(914, 913)\n",
      "(915, 914)\n",
      "(916, 915)\n",
      "(917, 916)\n",
      "(918, 917)\n",
      "(919, 918)\n",
      "(920, 919)\n",
      "(921, 920)\n",
      "(922, 921)\n",
      "(923, 922)\n",
      "(924, 923)\n",
      "(925, 924)\n",
      "(926, 925)\n",
      "(927, 926)\n",
      "(928, 927)\n",
      "(929, 928)\n",
      "(930, 929)\n",
      "(931, 930)\n",
      "(932, 931)\n",
      "(933, 932)\n",
      "(934, 933)\n",
      "(935, 934)\n",
      "(936, 935)\n",
      "(937, 936)\n",
      "(938, 937)\n",
      "(939, 938)\n",
      "(940, 939)\n",
      "(941, 940)\n",
      "(942, 941)\n",
      "(943, 942)\n",
      "(944, 943)\n",
      "(945, 944)\n",
      "(946, 945)\n",
      "(947, 946)\n",
      "(948, 947)\n",
      "(949, 948)\n",
      "(950, 949)\n",
      "(951, 950)\n",
      "(952, 951)\n",
      "(953, 952)\n",
      "(954, 953)\n",
      "(955, 954)\n",
      "(956, 955)\n",
      "(957, 956)\n",
      "(958, 957)\n",
      "(959, 958)\n",
      "(960, 959)\n",
      "(961, 960)\n",
      "(962, 961)\n",
      "(963, 962)\n",
      "(964, 963)\n",
      "(965, 964)\n",
      "(966, 965)\n",
      "(967, 966)\n",
      "(968, 967)\n",
      "(969, 968)\n",
      "(970, 969)\n",
      "(971, 970)\n",
      "(972, 971)\n",
      "(973, 972)\n",
      "(974, 973)\n",
      "(975, 974)\n",
      "(976, 975)\n",
      "(977, 976)\n",
      "(978, 977)\n",
      "(979, 978)\n",
      "(980, 979)\n",
      "(981, 980)\n",
      "(982, 981)\n",
      "(983, 982)\n",
      "(984, 983)\n",
      "(985, 984)\n",
      "(986, 985)\n",
      "(987, 986)\n",
      "(988, 987)\n",
      "(989, 988)\n",
      "(990, 989)\n",
      "(991, 990)\n",
      "(992, 991)\n",
      "(993, 992)\n",
      "(994, 993)\n",
      "(995, 994)\n",
      "(996, 995)\n",
      "(997, 996)\n",
      "(998, 997)\n",
      "(999, 998)\n",
      "(1000, 999)\n"
     ]
    }
   ],
   "source": [
    "from itertools import count, izip\n",
    "for i in izip(count(1), xrange(1000)):\n",
    "    print i"
   ]
  },
  {
   "cell_type": "code",
   "execution_count": 315,
   "metadata": {
    "collapsed": false
   },
   "outputs": [
    {
     "name": "stdout",
     "output_type": "stream",
     "text": [
      " before: i = 1\n",
      "comprehension:  [0, 1, 2, 3, 4]\n",
      "after: i = 4\n"
     ]
    }
   ],
   "source": [
    "\n",
    " \n",
    "i = 1\n",
    "print 'before: i =', i\n",
    " \n",
    "print 'comprehension: ', [i for i in range(5)]\n",
    " \n",
    "print 'after: i =', i"
   ]
  },
  {
   "cell_type": "code",
   "execution_count": 318,
   "metadata": {
    "collapsed": false
   },
   "outputs": [
    {
     "data": {
      "text/plain": [
       "[{'a': 1},\n",
       " {'b': 2},\n",
       " {'c': 2},\n",
       " {'d': 2},\n",
       " {'e': 2},\n",
       " {'a': 1},\n",
       " {'b': 2},\n",
       " {'c': 2},\n",
       " {'d': 2},\n",
       " {'e': 2},\n",
       " {'a': 1},\n",
       " {'b': 2},\n",
       " {'c': 2},\n",
       " {'d': 2},\n",
       " {'e': 2},\n",
       " {'a': 1},\n",
       " {'b': 2},\n",
       " {'c': 2},\n",
       " {'d': 2},\n",
       " {'e': 2},\n",
       " {'a': 1},\n",
       " {'b': 2},\n",
       " {'c': 2},\n",
       " {'d': 2},\n",
       " {'e': 2},\n",
       " {'a': 1},\n",
       " {'b': 2},\n",
       " {'c': 2},\n",
       " {'d': 2},\n",
       " {'e': 2},\n",
       " {'a': 1},\n",
       " {'b': 2},\n",
       " {'c': 2},\n",
       " {'d': 2},\n",
       " {'e': 2},\n",
       " {'a': 1},\n",
       " {'b': 2},\n",
       " {'c': 2},\n",
       " {'d': 2},\n",
       " {'e': 2},\n",
       " {'a': 1},\n",
       " {'b': 2},\n",
       " {'c': 2},\n",
       " {'d': 2},\n",
       " {'e': 2},\n",
       " {'a': 1},\n",
       " {'b': 2},\n",
       " {'c': 2},\n",
       " {'d': 2},\n",
       " {'e': 2}]"
      ]
     },
     "execution_count": 318,
     "metadata": {},
     "output_type": "execute_result"
    },
    {
     "name": "stdout",
     "output_type": "stream",
     "text": [
      "\n"
     ]
    }
   ],
   "source": [
    "[{'a': 1}, {'b': 2}, {'c': 2}, {'d': 2}, {'e': 2}]*10"
   ]
  },
  {
   "cell_type": "code",
   "execution_count": 9,
   "metadata": {
    "collapsed": false
   },
   "outputs": [
    {
     "name": "stdout",
     "output_type": "stream",
     "text": [
      "10 20 30 40 50 60 70 80 90 100\n"
     ]
    }
   ],
   "source": [
    "from itertools import count\n",
    "a = count(1)\n",
    "for i in xrange(100):\n",
    "    b = next(a)\n",
    "    if b % 10 == 0:\n",
    "        print b,"
   ]
  },
  {
   "cell_type": "code",
   "execution_count": null,
   "metadata": {
    "collapsed": true
   },
   "outputs": [],
   "source": [
    "y = [{1:2,3:4},{'a':1, 'b':2}]*10"
   ]
  },
  {
   "cell_type": "code",
   "execution_count": 15,
   "metadata": {
    "collapsed": true
   },
   "outputs": [],
   "source": [
    "y[0] = {1:3,2:4}"
   ]
  },
  {
   "cell_type": "code",
   "execution_count": null,
   "metadata": {
    "collapsed": true
   },
   "outputs": [],
   "source": [
    "a = [10, 8, 7,9]\n",
    "b = [2, 3, 4, 1]"
   ]
  },
  {
   "cell_type": "code",
   "execution_count": null,
   "metadata": {
    "collapsed": true
   },
   "outputs": [],
   "source": [
    "np.average(a, weights=b)"
   ]
  },
  {
   "cell_type": "code",
   "execution_count": null,
   "metadata": {
    "collapsed": true
   },
   "outputs": [],
   "source": []
  },
  {
   "cell_type": "code",
   "execution_count": null,
   "metadata": {
    "collapsed": true
   },
   "outputs": [],
   "source": []
  }
 ],
 "metadata": {
  "kernelspec": {
   "display_name": "Python 2",
   "language": "python",
   "name": "python2"
  },
  "language_info": {
   "codemirror_mode": {
    "name": "ipython",
    "version": 2
   },
   "file_extension": ".py",
   "mimetype": "text/x-python",
   "name": "python",
   "nbconvert_exporter": "python",
   "pygments_lexer": "ipython2",
   "version": "2.7.10"
  }
 },
 "nbformat": 4,
 "nbformat_minor": 0
}
